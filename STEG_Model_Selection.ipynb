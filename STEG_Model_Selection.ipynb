{
  "nbformat": 4,
  "nbformat_minor": 0,
  "metadata": {
    "colab": {
      "provenance": [],
      "include_colab_link": true
    },
    "kernelspec": {
      "name": "python3",
      "display_name": "Python 3"
    },
    "language_info": {
      "name": "python"
    }
  },
  "cells": [
    {
      "cell_type": "markdown",
      "metadata": {
        "id": "view-in-github",
        "colab_type": "text"
      },
      "source": [
        "<a href=\"https://colab.research.google.com/github/AbdulrahmanElshafie/EDA-Project-on-STEG-Dataset/blob/main/STEG_Model_Selection.ipynb\" target=\"_parent\"><img src=\"https://colab.research.google.com/assets/colab-badge.svg\" alt=\"Open In Colab\"/></a>"
      ]
    },
    {
      "cell_type": "code",
      "execution_count": null,
      "metadata": {
        "id": "kN29bkZB-rxy",
        "colab": {
          "base_uri": "https://localhost:8080/"
        },
        "outputId": "1a66eb0e-8f3a-46bf-df57-545e261e4672"
      },
      "outputs": [
        {
          "output_type": "stream",
          "name": "stdout",
          "text": [
            "Collecting catboost\n",
            "  Downloading catboost-1.2.3-cp310-cp310-manylinux2014_x86_64.whl (98.5 MB)\n",
            "\u001b[2K     \u001b[90m━━━━━━━━━━━━━━━━━━━━━━━━━━━━━━━━━━━━━━━━\u001b[0m \u001b[32m98.5/98.5 MB\u001b[0m \u001b[31m4.2 MB/s\u001b[0m eta \u001b[36m0:00:00\u001b[0m\n",
            "\u001b[?25hRequirement already satisfied: graphviz in /usr/local/lib/python3.10/dist-packages (from catboost) (0.20.3)\n",
            "Requirement already satisfied: matplotlib in /usr/local/lib/python3.10/dist-packages (from catboost) (3.7.1)\n",
            "Requirement already satisfied: numpy>=1.16.0 in /usr/local/lib/python3.10/dist-packages (from catboost) (1.25.2)\n",
            "Requirement already satisfied: pandas>=0.24 in /usr/local/lib/python3.10/dist-packages (from catboost) (1.5.3)\n",
            "Requirement already satisfied: scipy in /usr/local/lib/python3.10/dist-packages (from catboost) (1.11.4)\n",
            "Requirement already satisfied: plotly in /usr/local/lib/python3.10/dist-packages (from catboost) (5.15.0)\n",
            "Requirement already satisfied: six in /usr/local/lib/python3.10/dist-packages (from catboost) (1.16.0)\n",
            "Requirement already satisfied: python-dateutil>=2.8.1 in /usr/local/lib/python3.10/dist-packages (from pandas>=0.24->catboost) (2.8.2)\n",
            "Requirement already satisfied: pytz>=2020.1 in /usr/local/lib/python3.10/dist-packages (from pandas>=0.24->catboost) (2023.4)\n",
            "Requirement already satisfied: contourpy>=1.0.1 in /usr/local/lib/python3.10/dist-packages (from matplotlib->catboost) (1.2.0)\n",
            "Requirement already satisfied: cycler>=0.10 in /usr/local/lib/python3.10/dist-packages (from matplotlib->catboost) (0.12.1)\n",
            "Requirement already satisfied: fonttools>=4.22.0 in /usr/local/lib/python3.10/dist-packages (from matplotlib->catboost) (4.50.0)\n",
            "Requirement already satisfied: kiwisolver>=1.0.1 in /usr/local/lib/python3.10/dist-packages (from matplotlib->catboost) (1.4.5)\n",
            "Requirement already satisfied: packaging>=20.0 in /usr/local/lib/python3.10/dist-packages (from matplotlib->catboost) (24.0)\n",
            "Requirement already satisfied: pillow>=6.2.0 in /usr/local/lib/python3.10/dist-packages (from matplotlib->catboost) (9.4.0)\n",
            "Requirement already satisfied: pyparsing>=2.3.1 in /usr/local/lib/python3.10/dist-packages (from matplotlib->catboost) (3.1.2)\n",
            "Requirement already satisfied: tenacity>=6.2.0 in /usr/local/lib/python3.10/dist-packages (from plotly->catboost) (8.2.3)\n",
            "Installing collected packages: catboost\n",
            "Successfully installed catboost-1.2.3\n"
          ]
        }
      ],
      "source": [
        "pip install catboost"
      ]
    },
    {
      "cell_type": "code",
      "execution_count": null,
      "metadata": {
        "id": "623SUr4h9pa_"
      },
      "outputs": [],
      "source": [
        "import numpy as np\n",
        "import pandas as pd\n",
        "import matplotlib as mlp\n",
        "import matplotlib.pyplot as plt\n",
        "from imblearn.under_sampling import RandomUnderSampler\n",
        "\n",
        "from sklearn.tree import DecisionTreeClassifier\n",
        "from sklearn.ensemble import GradientBoostingClassifier, AdaBoostClassifier, VotingClassifier\n",
        "from sklearn.ensemble import HistGradientBoostingClassifier\n",
        "from sklearn.model_selection import GridSearchCV\n",
        "\n",
        "from sklearn.linear_model import LogisticRegression\n",
        "from catboost import CatBoostClassifier\n",
        "\n",
        "\n",
        "\n",
        "from sklearn.preprocessing import StandardScaler\n",
        "from sklearn.metrics import precision_score, recall_score, accuracy_score\n",
        "from sklearn.model_selection import train_test_split"
      ]
    },
    {
      "cell_type": "code",
      "source": [
        "import warnings\n",
        "mlp.rcParams[\"figure.facecolor\"] = \"white\"\n",
        "warnings.filterwarnings(\"ignore\")"
      ],
      "metadata": {
        "id": "e0W389OIjITf"
      },
      "execution_count": null,
      "outputs": []
    },
    {
      "cell_type": "code",
      "execution_count": null,
      "metadata": {
        "colab": {
          "base_uri": "https://localhost:8080/"
        },
        "id": "TRnCThbSmhsl",
        "outputId": "70e779ce-eb31-49ef-a6be-810a7d7199f8"
      },
      "outputs": [
        {
          "output_type": "stream",
          "name": "stdout",
          "text": [
            "Mounted at /content/drive\n"
          ]
        }
      ],
      "source": [
        "from google.colab import drive\n",
        "drive.mount('/content/drive')"
      ]
    },
    {
      "cell_type": "code",
      "execution_count": null,
      "metadata": {
        "id": "hQEw59tCZZ3o"
      },
      "outputs": [],
      "source": [
        "# test_set = pd.read_csv('/content/drive/MyDrive/Selected Project1/Copy of test set.csv')\n",
        "# train_set = pd.read_csv('/content/drive/MyDrive/Selected Project1/Copy of training set.csv')\n",
        "test_set = pd.read_csv('/content/drive/MyDrive/GP Projects/Project01 - EDA/test set.csv').dropna()\n",
        "training_set = pd.read_csv('/content/drive/MyDrive/GP Projects/Project01 - EDA/training set.csv').dropna()"
      ]
    },
    {
      "cell_type": "code",
      "source": [
        "training_set.shape"
      ],
      "metadata": {
        "colab": {
          "base_uri": "https://localhost:8080/"
        },
        "id": "DYtPMZ-rKh5Z",
        "outputId": "bea98392-7a28-45ee-a15c-3e289f023a25"
      },
      "execution_count": null,
      "outputs": [
        {
          "output_type": "execute_result",
          "data": {
            "text/plain": [
              "(2120068, 21)"
            ]
          },
          "metadata": {},
          "execution_count": 4
        }
      ]
    },
    {
      "cell_type": "code",
      "source": [
        "test_set.shape"
      ],
      "metadata": {
        "colab": {
          "base_uri": "https://localhost:8080/"
        },
        "id": "95j6H5U2Kj6W",
        "outputId": "5567608e-ae8c-4195-da09-f70dc48aeef6"
      },
      "execution_count": null,
      "outputs": [
        {
          "output_type": "execute_result",
          "data": {
            "text/plain": [
              "(530020, 21)"
            ]
          },
          "metadata": {},
          "execution_count": 5
        }
      ]
    },
    {
      "cell_type": "code",
      "source": [
        "x_train = training_set\n",
        "x_train = x_train.drop(columns=['target'])\n",
        "\n",
        "x_test = test_set\n",
        "x_test = x_test.drop(columns=['target'])\n",
        "\n",
        "x_train.shape"
      ],
      "metadata": {
        "colab": {
          "base_uri": "https://localhost:8080/"
        },
        "id": "kxz3m5qmZjPx",
        "outputId": "5558ae43-8877-40a2-dd29-33c358231184"
      },
      "execution_count": null,
      "outputs": [
        {
          "output_type": "execute_result",
          "data": {
            "text/plain": [
              "(2120068, 20)"
            ]
          },
          "metadata": {},
          "execution_count": 6
        }
      ]
    },
    {
      "cell_type": "code",
      "source": [
        "y_train = training_set['target']\n",
        "y_test = test_set['target']\n",
        "y_train"
      ],
      "metadata": {
        "colab": {
          "base_uri": "https://localhost:8080/"
        },
        "id": "Fg2Z-f9LaAuu",
        "outputId": "8faf4952-8d83-4654-8b78-d03a5ed98d5e"
      },
      "execution_count": null,
      "outputs": [
        {
          "output_type": "execute_result",
          "data": {
            "text/plain": [
              "0          0.0\n",
              "1          1.0\n",
              "2          0.0\n",
              "3          0.0\n",
              "4          1.0\n",
              "          ... \n",
              "2120099    0.0\n",
              "2120100    1.0\n",
              "2120101    1.0\n",
              "2120102    1.0\n",
              "2120103    1.0\n",
              "Name: target, Length: 2120068, dtype: float64"
            ]
          },
          "metadata": {},
          "execution_count": 7
        }
      ]
    },
    {
      "cell_type": "markdown",
      "source": [
        "# Gradient Boosting Classifier"
      ],
      "metadata": {
        "id": "ycxbBq1eEPZD"
      }
    },
    {
      "cell_type": "code",
      "source": [
        "HGB_clf = GradientBoostingClassifier()\n",
        "HGB_clf.fit(x_train, y_train)"
      ],
      "metadata": {
        "colab": {
          "base_uri": "https://localhost:8080/",
          "height": 74
        },
        "outputId": "516d6de2-74d2-45af-a064-7c44c6e04a0b",
        "id": "0-pNbYgbENHK"
      },
      "execution_count": null,
      "outputs": [
        {
          "output_type": "execute_result",
          "data": {
            "text/plain": [
              "GradientBoostingClassifier()"
            ],
            "text/html": [
              "<style>#sk-container-id-1 {color: black;background-color: white;}#sk-container-id-1 pre{padding: 0;}#sk-container-id-1 div.sk-toggleable {background-color: white;}#sk-container-id-1 label.sk-toggleable__label {cursor: pointer;display: block;width: 100%;margin-bottom: 0;padding: 0.3em;box-sizing: border-box;text-align: center;}#sk-container-id-1 label.sk-toggleable__label-arrow:before {content: \"▸\";float: left;margin-right: 0.25em;color: #696969;}#sk-container-id-1 label.sk-toggleable__label-arrow:hover:before {color: black;}#sk-container-id-1 div.sk-estimator:hover label.sk-toggleable__label-arrow:before {color: black;}#sk-container-id-1 div.sk-toggleable__content {max-height: 0;max-width: 0;overflow: hidden;text-align: left;background-color: #f0f8ff;}#sk-container-id-1 div.sk-toggleable__content pre {margin: 0.2em;color: black;border-radius: 0.25em;background-color: #f0f8ff;}#sk-container-id-1 input.sk-toggleable__control:checked~div.sk-toggleable__content {max-height: 200px;max-width: 100%;overflow: auto;}#sk-container-id-1 input.sk-toggleable__control:checked~label.sk-toggleable__label-arrow:before {content: \"▾\";}#sk-container-id-1 div.sk-estimator input.sk-toggleable__control:checked~label.sk-toggleable__label {background-color: #d4ebff;}#sk-container-id-1 div.sk-label input.sk-toggleable__control:checked~label.sk-toggleable__label {background-color: #d4ebff;}#sk-container-id-1 input.sk-hidden--visually {border: 0;clip: rect(1px 1px 1px 1px);clip: rect(1px, 1px, 1px, 1px);height: 1px;margin: -1px;overflow: hidden;padding: 0;position: absolute;width: 1px;}#sk-container-id-1 div.sk-estimator {font-family: monospace;background-color: #f0f8ff;border: 1px dotted black;border-radius: 0.25em;box-sizing: border-box;margin-bottom: 0.5em;}#sk-container-id-1 div.sk-estimator:hover {background-color: #d4ebff;}#sk-container-id-1 div.sk-parallel-item::after {content: \"\";width: 100%;border-bottom: 1px solid gray;flex-grow: 1;}#sk-container-id-1 div.sk-label:hover label.sk-toggleable__label {background-color: #d4ebff;}#sk-container-id-1 div.sk-serial::before {content: \"\";position: absolute;border-left: 1px solid gray;box-sizing: border-box;top: 0;bottom: 0;left: 50%;z-index: 0;}#sk-container-id-1 div.sk-serial {display: flex;flex-direction: column;align-items: center;background-color: white;padding-right: 0.2em;padding-left: 0.2em;position: relative;}#sk-container-id-1 div.sk-item {position: relative;z-index: 1;}#sk-container-id-1 div.sk-parallel {display: flex;align-items: stretch;justify-content: center;background-color: white;position: relative;}#sk-container-id-1 div.sk-item::before, #sk-container-id-1 div.sk-parallel-item::before {content: \"\";position: absolute;border-left: 1px solid gray;box-sizing: border-box;top: 0;bottom: 0;left: 50%;z-index: -1;}#sk-container-id-1 div.sk-parallel-item {display: flex;flex-direction: column;z-index: 1;position: relative;background-color: white;}#sk-container-id-1 div.sk-parallel-item:first-child::after {align-self: flex-end;width: 50%;}#sk-container-id-1 div.sk-parallel-item:last-child::after {align-self: flex-start;width: 50%;}#sk-container-id-1 div.sk-parallel-item:only-child::after {width: 0;}#sk-container-id-1 div.sk-dashed-wrapped {border: 1px dashed gray;margin: 0 0.4em 0.5em 0.4em;box-sizing: border-box;padding-bottom: 0.4em;background-color: white;}#sk-container-id-1 div.sk-label label {font-family: monospace;font-weight: bold;display: inline-block;line-height: 1.2em;}#sk-container-id-1 div.sk-label-container {text-align: center;}#sk-container-id-1 div.sk-container {/* jupyter's `normalize.less` sets `[hidden] { display: none; }` but bootstrap.min.css set `[hidden] { display: none !important; }` so we also need the `!important` here to be able to override the default hidden behavior on the sphinx rendered scikit-learn.org. See: https://github.com/scikit-learn/scikit-learn/issues/21755 */display: inline-block !important;position: relative;}#sk-container-id-1 div.sk-text-repr-fallback {display: none;}</style><div id=\"sk-container-id-1\" class=\"sk-top-container\"><div class=\"sk-text-repr-fallback\"><pre>GradientBoostingClassifier()</pre><b>In a Jupyter environment, please rerun this cell to show the HTML representation or trust the notebook. <br />On GitHub, the HTML representation is unable to render, please try loading this page with nbviewer.org.</b></div><div class=\"sk-container\" hidden><div class=\"sk-item\"><div class=\"sk-estimator sk-toggleable\"><input class=\"sk-toggleable__control sk-hidden--visually\" id=\"sk-estimator-id-1\" type=\"checkbox\" checked><label for=\"sk-estimator-id-1\" class=\"sk-toggleable__label sk-toggleable__label-arrow\">GradientBoostingClassifier</label><div class=\"sk-toggleable__content\"><pre>GradientBoostingClassifier()</pre></div></div></div></div></div>"
            ]
          },
          "metadata": {},
          "execution_count": 15
        }
      ]
    },
    {
      "cell_type": "code",
      "source": [
        "y_pred_HGB = HGB_clf.predict(x_test)\n",
        "\n",
        "# Calculate precision and recall\n",
        "precision_HGB = precision_score(y_test, y_pred_HGB)\n",
        "recall_HGB = recall_score(y_test, y_pred_HGB)\n",
        "\n",
        "print(precision_HGB)\n",
        "print(recall_HGB)"
      ],
      "metadata": {
        "colab": {
          "base_uri": "https://localhost:8080/"
        },
        "outputId": "d366c305-3a51-4f40-8277-abde4bc4b980",
        "id": "JHCVNZG1ENHS"
      },
      "execution_count": null,
      "outputs": [
        {
          "output_type": "stream",
          "name": "stdout",
          "text": [
            "0.7913018785670577\n",
            "0.7451696734586268\n"
          ]
        }
      ]
    },
    {
      "cell_type": "code",
      "source": [
        "HGB_clf.score(x_test, y_test )"
      ],
      "metadata": {
        "colab": {
          "base_uri": "https://localhost:8080/"
        },
        "outputId": "255eeb8b-6955-451d-edf8-6050b4cc3cd0",
        "id": "DPan8SoQENHS"
      },
      "execution_count": null,
      "outputs": [
        {
          "output_type": "execute_result",
          "data": {
            "text/plain": [
              "0.7738934379834723"
            ]
          },
          "metadata": {},
          "execution_count": 17
        }
      ]
    },
    {
      "cell_type": "markdown",
      "source": [
        "# Decision Tree Classifier"
      ],
      "metadata": {
        "id": "xO4xYyukEUxh"
      }
    },
    {
      "cell_type": "code",
      "source": [
        "HGB_clf = DecisionTreeClassifier()\n",
        "HGB_clf.fit(x_train, y_train)"
      ],
      "metadata": {
        "id": "SEMmyqHt33qS",
        "colab": {
          "base_uri": "https://localhost:8080/",
          "height": 74
        },
        "outputId": "cc07122c-8999-4362-c4e4-5ae017275847"
      },
      "execution_count": null,
      "outputs": [
        {
          "output_type": "execute_result",
          "data": {
            "text/plain": [
              "DecisionTreeClassifier()"
            ],
            "text/html": [
              "<style>#sk-container-id-1 {color: black;background-color: white;}#sk-container-id-1 pre{padding: 0;}#sk-container-id-1 div.sk-toggleable {background-color: white;}#sk-container-id-1 label.sk-toggleable__label {cursor: pointer;display: block;width: 100%;margin-bottom: 0;padding: 0.3em;box-sizing: border-box;text-align: center;}#sk-container-id-1 label.sk-toggleable__label-arrow:before {content: \"▸\";float: left;margin-right: 0.25em;color: #696969;}#sk-container-id-1 label.sk-toggleable__label-arrow:hover:before {color: black;}#sk-container-id-1 div.sk-estimator:hover label.sk-toggleable__label-arrow:before {color: black;}#sk-container-id-1 div.sk-toggleable__content {max-height: 0;max-width: 0;overflow: hidden;text-align: left;background-color: #f0f8ff;}#sk-container-id-1 div.sk-toggleable__content pre {margin: 0.2em;color: black;border-radius: 0.25em;background-color: #f0f8ff;}#sk-container-id-1 input.sk-toggleable__control:checked~div.sk-toggleable__content {max-height: 200px;max-width: 100%;overflow: auto;}#sk-container-id-1 input.sk-toggleable__control:checked~label.sk-toggleable__label-arrow:before {content: \"▾\";}#sk-container-id-1 div.sk-estimator input.sk-toggleable__control:checked~label.sk-toggleable__label {background-color: #d4ebff;}#sk-container-id-1 div.sk-label input.sk-toggleable__control:checked~label.sk-toggleable__label {background-color: #d4ebff;}#sk-container-id-1 input.sk-hidden--visually {border: 0;clip: rect(1px 1px 1px 1px);clip: rect(1px, 1px, 1px, 1px);height: 1px;margin: -1px;overflow: hidden;padding: 0;position: absolute;width: 1px;}#sk-container-id-1 div.sk-estimator {font-family: monospace;background-color: #f0f8ff;border: 1px dotted black;border-radius: 0.25em;box-sizing: border-box;margin-bottom: 0.5em;}#sk-container-id-1 div.sk-estimator:hover {background-color: #d4ebff;}#sk-container-id-1 div.sk-parallel-item::after {content: \"\";width: 100%;border-bottom: 1px solid gray;flex-grow: 1;}#sk-container-id-1 div.sk-label:hover label.sk-toggleable__label {background-color: #d4ebff;}#sk-container-id-1 div.sk-serial::before {content: \"\";position: absolute;border-left: 1px solid gray;box-sizing: border-box;top: 0;bottom: 0;left: 50%;z-index: 0;}#sk-container-id-1 div.sk-serial {display: flex;flex-direction: column;align-items: center;background-color: white;padding-right: 0.2em;padding-left: 0.2em;position: relative;}#sk-container-id-1 div.sk-item {position: relative;z-index: 1;}#sk-container-id-1 div.sk-parallel {display: flex;align-items: stretch;justify-content: center;background-color: white;position: relative;}#sk-container-id-1 div.sk-item::before, #sk-container-id-1 div.sk-parallel-item::before {content: \"\";position: absolute;border-left: 1px solid gray;box-sizing: border-box;top: 0;bottom: 0;left: 50%;z-index: -1;}#sk-container-id-1 div.sk-parallel-item {display: flex;flex-direction: column;z-index: 1;position: relative;background-color: white;}#sk-container-id-1 div.sk-parallel-item:first-child::after {align-self: flex-end;width: 50%;}#sk-container-id-1 div.sk-parallel-item:last-child::after {align-self: flex-start;width: 50%;}#sk-container-id-1 div.sk-parallel-item:only-child::after {width: 0;}#sk-container-id-1 div.sk-dashed-wrapped {border: 1px dashed gray;margin: 0 0.4em 0.5em 0.4em;box-sizing: border-box;padding-bottom: 0.4em;background-color: white;}#sk-container-id-1 div.sk-label label {font-family: monospace;font-weight: bold;display: inline-block;line-height: 1.2em;}#sk-container-id-1 div.sk-label-container {text-align: center;}#sk-container-id-1 div.sk-container {/* jupyter's `normalize.less` sets `[hidden] { display: none; }` but bootstrap.min.css set `[hidden] { display: none !important; }` so we also need the `!important` here to be able to override the default hidden behavior on the sphinx rendered scikit-learn.org. See: https://github.com/scikit-learn/scikit-learn/issues/21755 */display: inline-block !important;position: relative;}#sk-container-id-1 div.sk-text-repr-fallback {display: none;}</style><div id=\"sk-container-id-1\" class=\"sk-top-container\"><div class=\"sk-text-repr-fallback\"><pre>DecisionTreeClassifier()</pre><b>In a Jupyter environment, please rerun this cell to show the HTML representation or trust the notebook. <br />On GitHub, the HTML representation is unable to render, please try loading this page with nbviewer.org.</b></div><div class=\"sk-container\" hidden><div class=\"sk-item\"><div class=\"sk-estimator sk-toggleable\"><input class=\"sk-toggleable__control sk-hidden--visually\" id=\"sk-estimator-id-1\" type=\"checkbox\" checked><label for=\"sk-estimator-id-1\" class=\"sk-toggleable__label sk-toggleable__label-arrow\">DecisionTreeClassifier</label><div class=\"sk-toggleable__content\"><pre>DecisionTreeClassifier()</pre></div></div></div></div></div>"
            ]
          },
          "metadata": {},
          "execution_count": 8
        }
      ]
    },
    {
      "cell_type": "code",
      "source": [
        "y_pred_HGB = HGB_clf.predict(x_test)\n",
        "\n",
        "# Calculate precision and recall\n",
        "precision_HGB = precision_score(y_test, y_pred_HGB)\n",
        "recall_HGB = recall_score(y_test, y_pred_HGB)\n",
        "\n",
        "print(precision_HGB)\n",
        "print(recall_HGB)"
      ],
      "metadata": {
        "id": "eb_WLUsG6nF9",
        "colab": {
          "base_uri": "https://localhost:8080/"
        },
        "outputId": "e75d791c-4f17-4c99-92e2-febecfb9bdb3"
      },
      "execution_count": null,
      "outputs": [
        {
          "output_type": "stream",
          "name": "stdout",
          "text": [
            "0.8497446488922268\n",
            "0.8522729840683967\n"
          ]
        }
      ]
    },
    {
      "cell_type": "code",
      "source": [
        "HGB_clf.score(x_test, y_test )"
      ],
      "metadata": {
        "colab": {
          "base_uri": "https://localhost:8080/"
        },
        "id": "sed-VNo5_iSj",
        "outputId": "f5d8eb77-279b-42c6-e7d0-97944d8195a7"
      },
      "execution_count": null,
      "outputs": [
        {
          "output_type": "execute_result",
          "data": {
            "text/plain": [
              "0.850503754575299"
            ]
          },
          "metadata": {},
          "execution_count": 10
        }
      ]
    },
    {
      "cell_type": "markdown",
      "source": [
        "# Logistic Regression"
      ],
      "metadata": {
        "id": "vV3vaMdYEbT8"
      }
    },
    {
      "cell_type": "code",
      "source": [
        "HGB_clf = LogisticRegression()\n",
        "HGB_clf.fit(x_train, y_train)"
      ],
      "metadata": {
        "colab": {
          "base_uri": "https://localhost:8080/",
          "height": 74
        },
        "outputId": "6cdf8efc-a89b-4021-a159-327f149d90d9",
        "id": "DPkLyY1RDHXg"
      },
      "execution_count": null,
      "outputs": [
        {
          "output_type": "execute_result",
          "data": {
            "text/plain": [
              "LogisticRegression()"
            ],
            "text/html": [
              "<style>#sk-container-id-2 {color: black;background-color: white;}#sk-container-id-2 pre{padding: 0;}#sk-container-id-2 div.sk-toggleable {background-color: white;}#sk-container-id-2 label.sk-toggleable__label {cursor: pointer;display: block;width: 100%;margin-bottom: 0;padding: 0.3em;box-sizing: border-box;text-align: center;}#sk-container-id-2 label.sk-toggleable__label-arrow:before {content: \"▸\";float: left;margin-right: 0.25em;color: #696969;}#sk-container-id-2 label.sk-toggleable__label-arrow:hover:before {color: black;}#sk-container-id-2 div.sk-estimator:hover label.sk-toggleable__label-arrow:before {color: black;}#sk-container-id-2 div.sk-toggleable__content {max-height: 0;max-width: 0;overflow: hidden;text-align: left;background-color: #f0f8ff;}#sk-container-id-2 div.sk-toggleable__content pre {margin: 0.2em;color: black;border-radius: 0.25em;background-color: #f0f8ff;}#sk-container-id-2 input.sk-toggleable__control:checked~div.sk-toggleable__content {max-height: 200px;max-width: 100%;overflow: auto;}#sk-container-id-2 input.sk-toggleable__control:checked~label.sk-toggleable__label-arrow:before {content: \"▾\";}#sk-container-id-2 div.sk-estimator input.sk-toggleable__control:checked~label.sk-toggleable__label {background-color: #d4ebff;}#sk-container-id-2 div.sk-label input.sk-toggleable__control:checked~label.sk-toggleable__label {background-color: #d4ebff;}#sk-container-id-2 input.sk-hidden--visually {border: 0;clip: rect(1px 1px 1px 1px);clip: rect(1px, 1px, 1px, 1px);height: 1px;margin: -1px;overflow: hidden;padding: 0;position: absolute;width: 1px;}#sk-container-id-2 div.sk-estimator {font-family: monospace;background-color: #f0f8ff;border: 1px dotted black;border-radius: 0.25em;box-sizing: border-box;margin-bottom: 0.5em;}#sk-container-id-2 div.sk-estimator:hover {background-color: #d4ebff;}#sk-container-id-2 div.sk-parallel-item::after {content: \"\";width: 100%;border-bottom: 1px solid gray;flex-grow: 1;}#sk-container-id-2 div.sk-label:hover label.sk-toggleable__label {background-color: #d4ebff;}#sk-container-id-2 div.sk-serial::before {content: \"\";position: absolute;border-left: 1px solid gray;box-sizing: border-box;top: 0;bottom: 0;left: 50%;z-index: 0;}#sk-container-id-2 div.sk-serial {display: flex;flex-direction: column;align-items: center;background-color: white;padding-right: 0.2em;padding-left: 0.2em;position: relative;}#sk-container-id-2 div.sk-item {position: relative;z-index: 1;}#sk-container-id-2 div.sk-parallel {display: flex;align-items: stretch;justify-content: center;background-color: white;position: relative;}#sk-container-id-2 div.sk-item::before, #sk-container-id-2 div.sk-parallel-item::before {content: \"\";position: absolute;border-left: 1px solid gray;box-sizing: border-box;top: 0;bottom: 0;left: 50%;z-index: -1;}#sk-container-id-2 div.sk-parallel-item {display: flex;flex-direction: column;z-index: 1;position: relative;background-color: white;}#sk-container-id-2 div.sk-parallel-item:first-child::after {align-self: flex-end;width: 50%;}#sk-container-id-2 div.sk-parallel-item:last-child::after {align-self: flex-start;width: 50%;}#sk-container-id-2 div.sk-parallel-item:only-child::after {width: 0;}#sk-container-id-2 div.sk-dashed-wrapped {border: 1px dashed gray;margin: 0 0.4em 0.5em 0.4em;box-sizing: border-box;padding-bottom: 0.4em;background-color: white;}#sk-container-id-2 div.sk-label label {font-family: monospace;font-weight: bold;display: inline-block;line-height: 1.2em;}#sk-container-id-2 div.sk-label-container {text-align: center;}#sk-container-id-2 div.sk-container {/* jupyter's `normalize.less` sets `[hidden] { display: none; }` but bootstrap.min.css set `[hidden] { display: none !important; }` so we also need the `!important` here to be able to override the default hidden behavior on the sphinx rendered scikit-learn.org. See: https://github.com/scikit-learn/scikit-learn/issues/21755 */display: inline-block !important;position: relative;}#sk-container-id-2 div.sk-text-repr-fallback {display: none;}</style><div id=\"sk-container-id-2\" class=\"sk-top-container\"><div class=\"sk-text-repr-fallback\"><pre>LogisticRegression()</pre><b>In a Jupyter environment, please rerun this cell to show the HTML representation or trust the notebook. <br />On GitHub, the HTML representation is unable to render, please try loading this page with nbviewer.org.</b></div><div class=\"sk-container\" hidden><div class=\"sk-item\"><div class=\"sk-estimator sk-toggleable\"><input class=\"sk-toggleable__control sk-hidden--visually\" id=\"sk-estimator-id-2\" type=\"checkbox\" checked><label for=\"sk-estimator-id-2\" class=\"sk-toggleable__label sk-toggleable__label-arrow\">LogisticRegression</label><div class=\"sk-toggleable__content\"><pre>LogisticRegression()</pre></div></div></div></div></div>"
            ]
          },
          "metadata": {},
          "execution_count": 14
        }
      ]
    },
    {
      "cell_type": "code",
      "source": [
        "y_pred_HGB = HGB_clf.predict(x_test)\n",
        "\n",
        "# Calculate precision and recall\n",
        "precision_HGB = precision_score(y_test, y_pred_HGB)\n",
        "recall_HGB = recall_score(y_test, y_pred_HGB)\n",
        "\n",
        "print(precision_HGB)\n",
        "print(recall_HGB)"
      ],
      "metadata": {
        "colab": {
          "base_uri": "https://localhost:8080/"
        },
        "outputId": "db4b7bd6-f8a3-4b46-cfb6-21697bd478f7",
        "id": "F9bViUuLDHXh"
      },
      "execution_count": null,
      "outputs": [
        {
          "output_type": "stream",
          "name": "stdout",
          "text": [
            "0.5295771288992632\n",
            "0.5519980415050281\n"
          ]
        }
      ]
    },
    {
      "cell_type": "code",
      "source": [
        "HGB_clf.score(x_test, y_test )"
      ],
      "metadata": {
        "colab": {
          "base_uri": "https://localhost:8080/"
        },
        "outputId": "f760f4d6-886b-44cd-d443-cde6b449acb4",
        "id": "MeT-noTWDHXh"
      },
      "execution_count": null,
      "outputs": [
        {
          "output_type": "execute_result",
          "data": {
            "text/plain": [
              "0.5299441530508283"
            ]
          },
          "metadata": {},
          "execution_count": 16
        }
      ]
    },
    {
      "cell_type": "markdown",
      "source": [
        "# Cat Boost Classifier"
      ],
      "metadata": {
        "id": "nhBSJBYiEfHx"
      }
    },
    {
      "cell_type": "code",
      "source": [
        "HGB_clf = CatBoostClassifier()\n",
        "HGB_clf.fit(x_train, y_train)"
      ],
      "metadata": {
        "colab": {
          "base_uri": "https://localhost:8080/"
        },
        "outputId": "a7505d24-0afd-4e7e-b008-151b7e74900c",
        "id": "l62qGPLQDHuJ"
      },
      "execution_count": null,
      "outputs": [
        {
          "output_type": "stream",
          "name": "stdout",
          "text": [
            "Learning rate set to 0.271197\n",
            "0:\tlearn: 0.6124819\ttotal: 1.19s\tremaining: 19m 47s\n",
            "1:\tlearn: 0.5717774\ttotal: 3.05s\tremaining: 25m 21s\n",
            "2:\tlearn: 0.5500209\ttotal: 5.45s\tremaining: 30m 11s\n",
            "3:\tlearn: 0.5386812\ttotal: 7.01s\tremaining: 29m 4s\n",
            "4:\tlearn: 0.5319343\ttotal: 8.77s\tremaining: 29m 6s\n",
            "5:\tlearn: 0.5279976\ttotal: 10s\tremaining: 27m 37s\n",
            "6:\tlearn: 0.5257139\ttotal: 11.7s\tremaining: 27m 39s\n",
            "7:\tlearn: 0.5238181\ttotal: 13.2s\tremaining: 27m 10s\n",
            "8:\tlearn: 0.5229542\ttotal: 14.6s\tremaining: 26m 47s\n",
            "9:\tlearn: 0.5221882\ttotal: 16.1s\tremaining: 26m 31s\n",
            "10:\tlearn: 0.5216227\ttotal: 17.7s\tremaining: 26m 30s\n",
            "11:\tlearn: 0.5211951\ttotal: 20.4s\tremaining: 28m\n",
            "12:\tlearn: 0.5207563\ttotal: 22s\tremaining: 27m 49s\n",
            "13:\tlearn: 0.5203914\ttotal: 23.8s\tremaining: 27m 54s\n",
            "14:\tlearn: 0.5201620\ttotal: 25.2s\tremaining: 27m 37s\n",
            "15:\tlearn: 0.5197135\ttotal: 26.9s\tremaining: 27m 36s\n",
            "16:\tlearn: 0.5192718\ttotal: 28.6s\tremaining: 27m 33s\n",
            "17:\tlearn: 0.5190183\ttotal: 30.1s\tremaining: 27m 20s\n",
            "18:\tlearn: 0.5186916\ttotal: 31.9s\tremaining: 27m 29s\n",
            "19:\tlearn: 0.5185518\ttotal: 33.4s\tremaining: 27m 18s\n",
            "20:\tlearn: 0.5183353\ttotal: 35.7s\tremaining: 27m 45s\n",
            "21:\tlearn: 0.5180130\ttotal: 38s\tremaining: 28m 8s\n",
            "22:\tlearn: 0.5178122\ttotal: 39s\tremaining: 27m 37s\n",
            "23:\tlearn: 0.5176700\ttotal: 40.7s\tremaining: 27m 34s\n",
            "24:\tlearn: 0.5175874\ttotal: 42s\tremaining: 27m 17s\n",
            "25:\tlearn: 0.5172261\ttotal: 43.5s\tremaining: 27m 8s\n",
            "26:\tlearn: 0.5169090\ttotal: 45s\tremaining: 27m 1s\n",
            "27:\tlearn: 0.5167735\ttotal: 45.6s\tremaining: 26m 23s\n",
            "28:\tlearn: 0.5166002\ttotal: 46.3s\tremaining: 25m 50s\n",
            "29:\tlearn: 0.5164537\ttotal: 47.2s\tremaining: 25m 27s\n",
            "30:\tlearn: 0.5163712\ttotal: 48.5s\tremaining: 25m 17s\n",
            "31:\tlearn: 0.5162750\ttotal: 49.6s\tremaining: 25m 1s\n",
            "32:\tlearn: 0.5160043\ttotal: 51.2s\tremaining: 25m\n",
            "33:\tlearn: 0.5159343\ttotal: 52.2s\tremaining: 24m 44s\n",
            "34:\tlearn: 0.5158260\ttotal: 52.9s\tremaining: 24m 18s\n",
            "35:\tlearn: 0.5155623\ttotal: 53.5s\tremaining: 23m 52s\n",
            "36:\tlearn: 0.5152746\ttotal: 54.7s\tremaining: 23m 43s\n",
            "37:\tlearn: 0.5150431\ttotal: 55.3s\tremaining: 23m 21s\n",
            "38:\tlearn: 0.5148420\ttotal: 56s\tremaining: 22m 59s\n",
            "39:\tlearn: 0.5147819\ttotal: 56.6s\tremaining: 22m 37s\n",
            "40:\tlearn: 0.5145963\ttotal: 57.7s\tremaining: 22m 29s\n",
            "41:\tlearn: 0.5144808\ttotal: 58.3s\tremaining: 22m 9s\n",
            "42:\tlearn: 0.5143694\ttotal: 58.9s\tremaining: 21m 50s\n",
            "43:\tlearn: 0.5142196\ttotal: 59.5s\tremaining: 21m 33s\n",
            "44:\tlearn: 0.5141062\ttotal: 1m\tremaining: 21m 25s\n",
            "45:\tlearn: 0.5138974\ttotal: 1m 1s\tremaining: 21m 10s\n",
            "46:\tlearn: 0.5135103\ttotal: 1m 2s\tremaining: 20m 57s\n",
            "47:\tlearn: 0.5134162\ttotal: 1m 3s\tremaining: 20m 54s\n",
            "48:\tlearn: 0.5132677\ttotal: 1m 4s\tremaining: 20m 57s\n",
            "49:\tlearn: 0.5130960\ttotal: 1m 5s\tremaining: 20m 52s\n",
            "50:\tlearn: 0.5128911\ttotal: 1m 6s\tremaining: 20m 42s\n",
            "51:\tlearn: 0.5127092\ttotal: 1m 7s\tremaining: 20m 36s\n",
            "52:\tlearn: 0.5126156\ttotal: 1m 8s\tremaining: 20m 24s\n",
            "53:\tlearn: 0.5124457\ttotal: 1m 9s\tremaining: 20m 12s\n",
            "54:\tlearn: 0.5123100\ttotal: 1m 9s\tremaining: 20m 1s\n",
            "55:\tlearn: 0.5121584\ttotal: 1m 11s\tremaining: 19m 59s\n",
            "56:\tlearn: 0.5119080\ttotal: 1m 11s\tremaining: 19m 47s\n",
            "57:\tlearn: 0.5117428\ttotal: 1m 12s\tremaining: 19m 35s\n",
            "58:\tlearn: 0.5116732\ttotal: 1m 13s\tremaining: 19m 24s\n",
            "59:\tlearn: 0.5115174\ttotal: 1m 14s\tremaining: 19m 21s\n",
            "60:\tlearn: 0.5114365\ttotal: 1m 14s\tremaining: 19m 11s\n",
            "61:\tlearn: 0.5112815\ttotal: 1m 15s\tremaining: 19m 3s\n",
            "62:\tlearn: 0.5111197\ttotal: 1m 16s\tremaining: 18m 53s\n",
            "63:\tlearn: 0.5110841\ttotal: 1m 17s\tremaining: 18m 55s\n",
            "64:\tlearn: 0.5108869\ttotal: 1m 18s\tremaining: 18m 53s\n",
            "65:\tlearn: 0.5107005\ttotal: 1m 19s\tremaining: 18m 51s\n",
            "66:\tlearn: 0.5106583\ttotal: 1m 21s\tremaining: 18m 53s\n",
            "67:\tlearn: 0.5104596\ttotal: 1m 22s\tremaining: 18m 45s\n",
            "68:\tlearn: 0.5102016\ttotal: 1m 22s\tremaining: 18m 37s\n",
            "69:\tlearn: 0.5101179\ttotal: 1m 23s\tremaining: 18m 31s\n",
            "70:\tlearn: 0.5099943\ttotal: 1m 24s\tremaining: 18m 29s\n",
            "71:\tlearn: 0.5098780\ttotal: 1m 25s\tremaining: 18m 21s\n",
            "72:\tlearn: 0.5096344\ttotal: 1m 26s\tremaining: 18m 14s\n",
            "73:\tlearn: 0.5094626\ttotal: 1m 27s\tremaining: 18m 13s\n",
            "74:\tlearn: 0.5093202\ttotal: 1m 28s\tremaining: 18m 6s\n",
            "75:\tlearn: 0.5091517\ttotal: 1m 28s\tremaining: 17m 59s\n",
            "76:\tlearn: 0.5089592\ttotal: 1m 29s\tremaining: 17m 52s\n",
            "77:\tlearn: 0.5088802\ttotal: 1m 30s\tremaining: 17m 45s\n",
            "78:\tlearn: 0.5087239\ttotal: 1m 31s\tremaining: 17m 47s\n",
            "79:\tlearn: 0.5086247\ttotal: 1m 32s\tremaining: 17m 45s\n",
            "80:\tlearn: 0.5084446\ttotal: 1m 34s\tremaining: 17m 49s\n",
            "81:\tlearn: 0.5083202\ttotal: 1m 35s\tremaining: 17m 52s\n",
            "82:\tlearn: 0.5081611\ttotal: 1m 37s\tremaining: 17m 55s\n",
            "83:\tlearn: 0.5081344\ttotal: 1m 38s\tremaining: 17m 57s\n",
            "84:\tlearn: 0.5079195\ttotal: 1m 39s\tremaining: 17m 52s\n",
            "85:\tlearn: 0.5078593\ttotal: 1m 40s\tremaining: 17m 48s\n",
            "86:\tlearn: 0.5077479\ttotal: 1m 41s\tremaining: 17m 44s\n",
            "87:\tlearn: 0.5076474\ttotal: 1m 42s\tremaining: 17m 37s\n",
            "88:\tlearn: 0.5075483\ttotal: 1m 42s\tremaining: 17m 31s\n",
            "89:\tlearn: 0.5073936\ttotal: 1m 43s\tremaining: 17m 27s\n",
            "90:\tlearn: 0.5073021\ttotal: 1m 44s\tremaining: 17m 23s\n",
            "91:\tlearn: 0.5071915\ttotal: 1m 45s\tremaining: 17m 17s\n",
            "92:\tlearn: 0.5069615\ttotal: 1m 45s\tremaining: 17m 11s\n",
            "93:\tlearn: 0.5067565\ttotal: 1m 46s\tremaining: 17m 10s\n",
            "94:\tlearn: 0.5066959\ttotal: 1m 48s\tremaining: 17m 9s\n",
            "95:\tlearn: 0.5066074\ttotal: 1m 49s\tremaining: 17m 8s\n",
            "96:\tlearn: 0.5064950\ttotal: 1m 50s\tremaining: 17m 12s\n",
            "97:\tlearn: 0.5064257\ttotal: 1m 51s\tremaining: 17m 7s\n",
            "98:\tlearn: 0.5062592\ttotal: 1m 52s\tremaining: 17m 2s\n",
            "99:\tlearn: 0.5062182\ttotal: 1m 53s\tremaining: 17m 1s\n",
            "100:\tlearn: 0.5061807\ttotal: 1m 54s\tremaining: 16m 55s\n",
            "101:\tlearn: 0.5060850\ttotal: 1m 54s\tremaining: 16m 50s\n",
            "102:\tlearn: 0.5059976\ttotal: 1m 55s\tremaining: 16m 46s\n",
            "103:\tlearn: 0.5059285\ttotal: 1m 56s\tremaining: 16m 44s\n",
            "104:\tlearn: 0.5058155\ttotal: 1m 57s\tremaining: 16m 38s\n",
            "105:\tlearn: 0.5056721\ttotal: 1m 57s\tremaining: 16m 33s\n",
            "106:\tlearn: 0.5056204\ttotal: 1m 59s\tremaining: 16m 35s\n",
            "107:\tlearn: 0.5054689\ttotal: 2m\tremaining: 16m 31s\n",
            "108:\tlearn: 0.5053913\ttotal: 2m\tremaining: 16m 26s\n",
            "109:\tlearn: 0.5053165\ttotal: 2m 1s\tremaining: 16m 21s\n",
            "110:\tlearn: 0.5052065\ttotal: 2m 2s\tremaining: 16m 24s\n",
            "111:\tlearn: 0.5051195\ttotal: 2m 3s\tremaining: 16m 22s\n",
            "112:\tlearn: 0.5049279\ttotal: 2m 5s\tremaining: 16m 27s\n",
            "113:\tlearn: 0.5047421\ttotal: 2m 6s\tremaining: 16m 23s\n",
            "114:\tlearn: 0.5046894\ttotal: 2m 7s\tremaining: 16m 19s\n",
            "115:\tlearn: 0.5046364\ttotal: 2m 8s\tremaining: 16m 17s\n",
            "116:\tlearn: 0.5045927\ttotal: 2m 8s\tremaining: 16m 13s\n",
            "117:\tlearn: 0.5044073\ttotal: 2m 9s\tremaining: 16m 8s\n",
            "118:\tlearn: 0.5043790\ttotal: 2m 10s\tremaining: 16m 4s\n",
            "119:\tlearn: 0.5043263\ttotal: 2m 11s\tremaining: 16m 3s\n",
            "120:\tlearn: 0.5042379\ttotal: 2m 11s\tremaining: 15m 58s\n",
            "121:\tlearn: 0.5040987\ttotal: 2m 12s\tremaining: 15m 54s\n",
            "122:\tlearn: 0.5039848\ttotal: 2m 13s\tremaining: 15m 50s\n",
            "123:\tlearn: 0.5038538\ttotal: 2m 14s\tremaining: 15m 49s\n",
            "124:\tlearn: 0.5038011\ttotal: 2m 15s\tremaining: 15m 45s\n",
            "125:\tlearn: 0.5036871\ttotal: 2m 15s\tremaining: 15m 42s\n",
            "126:\tlearn: 0.5036017\ttotal: 2m 17s\tremaining: 15m 42s\n",
            "127:\tlearn: 0.5035293\ttotal: 2m 18s\tremaining: 15m 44s\n",
            "128:\tlearn: 0.5034895\ttotal: 2m 19s\tremaining: 15m 44s\n",
            "129:\tlearn: 0.5033199\ttotal: 2m 21s\tremaining: 15m 44s\n",
            "130:\tlearn: 0.5032844\ttotal: 2m 21s\tremaining: 15m 41s\n",
            "131:\tlearn: 0.5031772\ttotal: 2m 22s\tremaining: 15m 37s\n",
            "132:\tlearn: 0.5030662\ttotal: 2m 23s\tremaining: 15m 33s\n",
            "133:\tlearn: 0.5030285\ttotal: 2m 23s\tremaining: 15m 29s\n",
            "134:\tlearn: 0.5029460\ttotal: 2m 24s\tremaining: 15m 28s\n",
            "135:\tlearn: 0.5028521\ttotal: 2m 25s\tremaining: 15m 24s\n",
            "136:\tlearn: 0.5027477\ttotal: 2m 26s\tremaining: 15m 21s\n",
            "137:\tlearn: 0.5026898\ttotal: 2m 26s\tremaining: 15m 17s\n",
            "138:\tlearn: 0.5025690\ttotal: 2m 27s\tremaining: 15m 16s\n",
            "139:\tlearn: 0.5024649\ttotal: 2m 28s\tremaining: 15m 12s\n",
            "140:\tlearn: 0.5024146\ttotal: 2m 29s\tremaining: 15m 9s\n",
            "141:\tlearn: 0.5023351\ttotal: 2m 30s\tremaining: 15m 8s\n",
            "142:\tlearn: 0.5022373\ttotal: 2m 31s\tremaining: 15m 7s\n",
            "143:\tlearn: 0.5021048\ttotal: 2m 32s\tremaining: 15m 7s\n",
            "144:\tlearn: 0.5019869\ttotal: 2m 34s\tremaining: 15m 9s\n",
            "145:\tlearn: 0.5019382\ttotal: 2m 35s\tremaining: 15m 7s\n",
            "146:\tlearn: 0.5018025\ttotal: 2m 36s\tremaining: 15m 6s\n",
            "147:\tlearn: 0.5017213\ttotal: 2m 36s\tremaining: 15m 3s\n",
            "148:\tlearn: 0.5016549\ttotal: 2m 37s\tremaining: 15m\n",
            "149:\tlearn: 0.5015876\ttotal: 2m 38s\tremaining: 14m 56s\n",
            "150:\tlearn: 0.5015619\ttotal: 2m 39s\tremaining: 14m 55s\n",
            "151:\tlearn: 0.5014874\ttotal: 2m 40s\tremaining: 14m 52s\n",
            "152:\tlearn: 0.5014500\ttotal: 2m 40s\tremaining: 14m 49s\n",
            "153:\tlearn: 0.5013913\ttotal: 2m 41s\tremaining: 14m 46s\n",
            "154:\tlearn: 0.5012711\ttotal: 2m 42s\tremaining: 14m 45s\n",
            "155:\tlearn: 0.5011721\ttotal: 2m 43s\tremaining: 14m 42s\n",
            "156:\tlearn: 0.5010866\ttotal: 2m 43s\tremaining: 14m 39s\n",
            "157:\tlearn: 0.5009783\ttotal: 2m 44s\tremaining: 14m 36s\n",
            "158:\tlearn: 0.5009280\ttotal: 2m 45s\tremaining: 14m 36s\n",
            "159:\tlearn: 0.5008816\ttotal: 2m 47s\tremaining: 14m 38s\n",
            "160:\tlearn: 0.5008409\ttotal: 2m 48s\tremaining: 14m 37s\n",
            "161:\tlearn: 0.5007702\ttotal: 2m 49s\tremaining: 14m 37s\n",
            "162:\tlearn: 0.5007077\ttotal: 2m 50s\tremaining: 14m 35s\n",
            "163:\tlearn: 0.5006103\ttotal: 2m 51s\tremaining: 14m 32s\n",
            "164:\tlearn: 0.5005733\ttotal: 2m 51s\tremaining: 14m 28s\n",
            "165:\tlearn: 0.5004619\ttotal: 2m 52s\tremaining: 14m 28s\n",
            "166:\tlearn: 0.5003390\ttotal: 2m 53s\tremaining: 14m 25s\n",
            "167:\tlearn: 0.5002838\ttotal: 2m 54s\tremaining: 14m 22s\n",
            "168:\tlearn: 0.5001714\ttotal: 2m 55s\tremaining: 14m 21s\n",
            "169:\tlearn: 0.5000927\ttotal: 2m 55s\tremaining: 14m 18s\n",
            "170:\tlearn: 0.5000102\ttotal: 2m 56s\tremaining: 14m 15s\n",
            "171:\tlearn: 0.4999314\ttotal: 2m 57s\tremaining: 14m 12s\n",
            "172:\tlearn: 0.4998534\ttotal: 2m 58s\tremaining: 14m 12s\n",
            "173:\tlearn: 0.4997677\ttotal: 2m 58s\tremaining: 14m 9s\n",
            "174:\tlearn: 0.4997367\ttotal: 2m 59s\tremaining: 14m 7s\n",
            "175:\tlearn: 0.4996378\ttotal: 3m 1s\tremaining: 14m 8s\n",
            "176:\tlearn: 0.4996104\ttotal: 3m 2s\tremaining: 14m 8s\n",
            "177:\tlearn: 0.4995071\ttotal: 3m 3s\tremaining: 14m 7s\n",
            "178:\tlearn: 0.4994290\ttotal: 3m 4s\tremaining: 14m 5s\n",
            "179:\tlearn: 0.4993579\ttotal: 3m 5s\tremaining: 14m 3s\n",
            "180:\tlearn: 0.4992631\ttotal: 3m 5s\tremaining: 14m 1s\n",
            "181:\tlearn: 0.4991667\ttotal: 3m 6s\tremaining: 13m 58s\n",
            "182:\tlearn: 0.4991187\ttotal: 3m 7s\tremaining: 13m 56s\n",
            "183:\tlearn: 0.4990219\ttotal: 3m 8s\tremaining: 13m 54s\n",
            "184:\tlearn: 0.4989260\ttotal: 3m 8s\tremaining: 13m 52s\n",
            "185:\tlearn: 0.4988228\ttotal: 3m 9s\tremaining: 13m 49s\n",
            "186:\tlearn: 0.4986957\ttotal: 3m 10s\tremaining: 13m 47s\n",
            "187:\tlearn: 0.4986078\ttotal: 3m 11s\tremaining: 13m 45s\n",
            "188:\tlearn: 0.4985777\ttotal: 3m 11s\tremaining: 13m 43s\n",
            "189:\tlearn: 0.4985331\ttotal: 3m 12s\tremaining: 13m 40s\n",
            "190:\tlearn: 0.4984337\ttotal: 3m 13s\tremaining: 13m 37s\n",
            "191:\tlearn: 0.4983397\ttotal: 3m 14s\tremaining: 13m 38s\n",
            "192:\tlearn: 0.4982920\ttotal: 3m 15s\tremaining: 13m 38s\n",
            "193:\tlearn: 0.4982215\ttotal: 3m 17s\tremaining: 13m 39s\n",
            "194:\tlearn: 0.4981001\ttotal: 3m 18s\tremaining: 13m 39s\n",
            "195:\tlearn: 0.4980756\ttotal: 3m 19s\tremaining: 13m 36s\n",
            "196:\tlearn: 0.4979846\ttotal: 3m 19s\tremaining: 13m 34s\n",
            "197:\tlearn: 0.4979319\ttotal: 3m 20s\tremaining: 13m 33s\n",
            "198:\tlearn: 0.4978676\ttotal: 3m 21s\tremaining: 13m 31s\n",
            "199:\tlearn: 0.4978313\ttotal: 3m 22s\tremaining: 13m 28s\n",
            "200:\tlearn: 0.4977275\ttotal: 3m 22s\tremaining: 13m 26s\n",
            "201:\tlearn: 0.4976895\ttotal: 3m 23s\tremaining: 13m 25s\n",
            "202:\tlearn: 0.4975146\ttotal: 3m 24s\tremaining: 13m 23s\n",
            "203:\tlearn: 0.4974479\ttotal: 3m 25s\tremaining: 13m 20s\n",
            "204:\tlearn: 0.4974104\ttotal: 3m 25s\tremaining: 13m 18s\n",
            "205:\tlearn: 0.4972498\ttotal: 3m 26s\tremaining: 13m 17s\n",
            "206:\tlearn: 0.4971742\ttotal: 3m 27s\tremaining: 13m 14s\n",
            "207:\tlearn: 0.4970992\ttotal: 3m 28s\tremaining: 13m 12s\n",
            "208:\tlearn: 0.4970296\ttotal: 3m 29s\tremaining: 13m 11s\n",
            "209:\tlearn: 0.4969241\ttotal: 3m 30s\tremaining: 13m 12s\n",
            "210:\tlearn: 0.4968935\ttotal: 3m 31s\tremaining: 13m 12s\n",
            "211:\tlearn: 0.4968392\ttotal: 3m 32s\tremaining: 13m 11s\n",
            "212:\tlearn: 0.4967724\ttotal: 3m 33s\tremaining: 13m 10s\n",
            "213:\tlearn: 0.4967002\ttotal: 3m 34s\tremaining: 13m 8s\n",
            "214:\tlearn: 0.4966047\ttotal: 3m 35s\tremaining: 13m 6s\n",
            "215:\tlearn: 0.4965578\ttotal: 3m 35s\tremaining: 13m 3s\n",
            "216:\tlearn: 0.4965121\ttotal: 3m 37s\tremaining: 13m 3s\n",
            "217:\tlearn: 0.4964722\ttotal: 3m 37s\tremaining: 13m\n",
            "218:\tlearn: 0.4964162\ttotal: 3m 38s\tremaining: 12m 58s\n",
            "219:\tlearn: 0.4963716\ttotal: 3m 38s\tremaining: 12m 56s\n",
            "220:\tlearn: 0.4963335\ttotal: 3m 40s\tremaining: 12m 55s\n",
            "221:\tlearn: 0.4962788\ttotal: 3m 40s\tremaining: 12m 53s\n",
            "222:\tlearn: 0.4961734\ttotal: 3m 41s\tremaining: 12m 51s\n",
            "223:\tlearn: 0.4961506\ttotal: 3m 41s\tremaining: 12m 49s\n",
            "224:\tlearn: 0.4960961\ttotal: 3m 43s\tremaining: 12m 49s\n",
            "225:\tlearn: 0.4959863\ttotal: 3m 45s\tremaining: 12m 51s\n",
            "226:\tlearn: 0.4959125\ttotal: 3m 47s\tremaining: 12m 54s\n",
            "227:\tlearn: 0.4958734\ttotal: 3m 48s\tremaining: 12m 52s\n",
            "228:\tlearn: 0.4958446\ttotal: 3m 48s\tremaining: 12m 50s\n",
            "229:\tlearn: 0.4957625\ttotal: 3m 49s\tremaining: 12m 48s\n",
            "230:\tlearn: 0.4956761\ttotal: 3m 50s\tremaining: 12m 46s\n",
            "231:\tlearn: 0.4955854\ttotal: 3m 51s\tremaining: 12m 45s\n",
            "232:\tlearn: 0.4955349\ttotal: 3m 51s\tremaining: 12m 43s\n",
            "233:\tlearn: 0.4954691\ttotal: 3m 52s\tremaining: 12m 41s\n",
            "234:\tlearn: 0.4954224\ttotal: 3m 53s\tremaining: 12m 39s\n",
            "235:\tlearn: 0.4953496\ttotal: 3m 54s\tremaining: 12m 39s\n",
            "236:\tlearn: 0.4952950\ttotal: 3m 56s\tremaining: 12m 40s\n",
            "237:\tlearn: 0.4952278\ttotal: 3m 58s\tremaining: 12m 44s\n",
            "238:\tlearn: 0.4951410\ttotal: 4m\tremaining: 12m 46s\n",
            "239:\tlearn: 0.4950942\ttotal: 4m 3s\tremaining: 12m 50s\n",
            "240:\tlearn: 0.4950132\ttotal: 4m 4s\tremaining: 12m 49s\n",
            "241:\tlearn: 0.4949342\ttotal: 4m 5s\tremaining: 12m 50s\n",
            "242:\tlearn: 0.4948979\ttotal: 4m 7s\tremaining: 12m 50s\n",
            "243:\tlearn: 0.4948118\ttotal: 4m 8s\tremaining: 12m 49s\n",
            "244:\tlearn: 0.4947916\ttotal: 4m 10s\tremaining: 12m 50s\n",
            "245:\tlearn: 0.4947534\ttotal: 4m 11s\tremaining: 12m 50s\n",
            "246:\tlearn: 0.4946830\ttotal: 4m 12s\tremaining: 12m 50s\n",
            "247:\tlearn: 0.4946611\ttotal: 4m 14s\tremaining: 12m 53s\n",
            "248:\tlearn: 0.4946236\ttotal: 4m 17s\tremaining: 12m 57s\n",
            "249:\tlearn: 0.4945667\ttotal: 4m 19s\tremaining: 12m 57s\n",
            "250:\tlearn: 0.4944331\ttotal: 4m 21s\tremaining: 12m 59s\n",
            "251:\tlearn: 0.4943174\ttotal: 4m 23s\tremaining: 13m\n",
            "252:\tlearn: 0.4942782\ttotal: 4m 24s\tremaining: 13m\n",
            "253:\tlearn: 0.4942392\ttotal: 4m 26s\tremaining: 13m 1s\n",
            "254:\tlearn: 0.4941658\ttotal: 4m 27s\tremaining: 13m 1s\n",
            "255:\tlearn: 0.4940587\ttotal: 4m 29s\tremaining: 13m 2s\n",
            "256:\tlearn: 0.4939987\ttotal: 4m 31s\tremaining: 13m 5s\n",
            "257:\tlearn: 0.4939152\ttotal: 4m 33s\tremaining: 13m 6s\n",
            "258:\tlearn: 0.4937637\ttotal: 4m 35s\tremaining: 13m 7s\n",
            "259:\tlearn: 0.4937072\ttotal: 4m 36s\tremaining: 13m 6s\n",
            "260:\tlearn: 0.4936420\ttotal: 4m 38s\tremaining: 13m 7s\n",
            "261:\tlearn: 0.4935886\ttotal: 4m 38s\tremaining: 13m 5s\n",
            "262:\tlearn: 0.4935506\ttotal: 4m 39s\tremaining: 13m 3s\n",
            "263:\tlearn: 0.4934912\ttotal: 4m 40s\tremaining: 13m 1s\n",
            "264:\tlearn: 0.4933717\ttotal: 4m 41s\tremaining: 12m 59s\n",
            "265:\tlearn: 0.4933323\ttotal: 4m 41s\tremaining: 12m 57s\n",
            "266:\tlearn: 0.4932652\ttotal: 4m 42s\tremaining: 12m 55s\n",
            "267:\tlearn: 0.4932407\ttotal: 4m 43s\tremaining: 12m 54s\n",
            "268:\tlearn: 0.4932233\ttotal: 4m 44s\tremaining: 12m 54s\n",
            "269:\tlearn: 0.4931592\ttotal: 4m 46s\tremaining: 12m 53s\n",
            "270:\tlearn: 0.4930798\ttotal: 4m 47s\tremaining: 12m 53s\n",
            "271:\tlearn: 0.4930096\ttotal: 4m 48s\tremaining: 12m 51s\n",
            "272:\tlearn: 0.4929579\ttotal: 4m 49s\tremaining: 12m 49s\n",
            "273:\tlearn: 0.4929232\ttotal: 4m 49s\tremaining: 12m 47s\n",
            "274:\tlearn: 0.4928743\ttotal: 4m 51s\tremaining: 12m 48s\n",
            "275:\tlearn: 0.4928048\ttotal: 4m 52s\tremaining: 12m 48s\n",
            "276:\tlearn: 0.4927661\ttotal: 4m 54s\tremaining: 12m 47s\n",
            "277:\tlearn: 0.4927443\ttotal: 4m 56s\tremaining: 12m 48s\n",
            "278:\tlearn: 0.4927047\ttotal: 4m 57s\tremaining: 12m 47s\n",
            "279:\tlearn: 0.4926617\ttotal: 4m 58s\tremaining: 12m 47s\n",
            "280:\tlearn: 0.4926252\ttotal: 5m 1s\tremaining: 12m 50s\n",
            "281:\tlearn: 0.4926075\ttotal: 5m 2s\tremaining: 12m 49s\n",
            "282:\tlearn: 0.4925593\ttotal: 5m 3s\tremaining: 12m 48s\n",
            "283:\tlearn: 0.4925267\ttotal: 5m 3s\tremaining: 12m 46s\n",
            "284:\tlearn: 0.4924495\ttotal: 5m 4s\tremaining: 12m 44s\n",
            "285:\tlearn: 0.4924344\ttotal: 5m 5s\tremaining: 12m 42s\n",
            "286:\tlearn: 0.4923865\ttotal: 5m 6s\tremaining: 12m 40s\n",
            "287:\tlearn: 0.4923455\ttotal: 5m 6s\tremaining: 12m 38s\n",
            "288:\tlearn: 0.4922226\ttotal: 5m 7s\tremaining: 12m 36s\n",
            "289:\tlearn: 0.4921854\ttotal: 5m 8s\tremaining: 12m 34s\n",
            "290:\tlearn: 0.4921406\ttotal: 5m 8s\tremaining: 12m 32s\n",
            "291:\tlearn: 0.4921303\ttotal: 5m 9s\tremaining: 12m 31s\n",
            "292:\tlearn: 0.4920548\ttotal: 5m 10s\tremaining: 12m 29s\n",
            "293:\tlearn: 0.4919701\ttotal: 5m 11s\tremaining: 12m 27s\n",
            "294:\tlearn: 0.4919121\ttotal: 5m 11s\tremaining: 12m 25s\n",
            "295:\tlearn: 0.4918707\ttotal: 5m 13s\tremaining: 12m 25s\n",
            "296:\tlearn: 0.4918197\ttotal: 5m 14s\tremaining: 12m 24s\n",
            "297:\tlearn: 0.4917338\ttotal: 5m 16s\tremaining: 12m 24s\n",
            "298:\tlearn: 0.4917178\ttotal: 5m 17s\tremaining: 12m 23s\n",
            "299:\tlearn: 0.4916754\ttotal: 5m 17s\tremaining: 12m 21s\n",
            "300:\tlearn: 0.4916108\ttotal: 5m 18s\tremaining: 12m 19s\n",
            "301:\tlearn: 0.4915397\ttotal: 5m 19s\tremaining: 12m 17s\n",
            "302:\tlearn: 0.4914957\ttotal: 5m 20s\tremaining: 12m 16s\n",
            "303:\tlearn: 0.4913939\ttotal: 5m 20s\tremaining: 12m 14s\n",
            "304:\tlearn: 0.4913174\ttotal: 5m 21s\tremaining: 12m 12s\n",
            "305:\tlearn: 0.4912236\ttotal: 5m 22s\tremaining: 12m 11s\n",
            "306:\tlearn: 0.4911463\ttotal: 5m 23s\tremaining: 12m 9s\n",
            "307:\tlearn: 0.4911282\ttotal: 5m 23s\tremaining: 12m 7s\n",
            "308:\tlearn: 0.4910747\ttotal: 5m 24s\tremaining: 12m 5s\n",
            "309:\tlearn: 0.4910410\ttotal: 5m 25s\tremaining: 12m 4s\n",
            "310:\tlearn: 0.4909697\ttotal: 5m 26s\tremaining: 12m 2s\n",
            "311:\tlearn: 0.4909330\ttotal: 5m 27s\tremaining: 12m 1s\n",
            "312:\tlearn: 0.4908755\ttotal: 5m 28s\tremaining: 12m 1s\n",
            "313:\tlearn: 0.4908452\ttotal: 5m 29s\tremaining: 12m\n",
            "314:\tlearn: 0.4908151\ttotal: 5m 31s\tremaining: 12m\n",
            "315:\tlearn: 0.4907691\ttotal: 5m 31s\tremaining: 11m 58s\n",
            "316:\tlearn: 0.4907473\ttotal: 5m 32s\tremaining: 11m 56s\n",
            "317:\tlearn: 0.4907304\ttotal: 5m 33s\tremaining: 11m 54s\n",
            "318:\tlearn: 0.4906616\ttotal: 5m 34s\tremaining: 11m 53s\n",
            "319:\tlearn: 0.4906141\ttotal: 5m 34s\tremaining: 11m 51s\n",
            "320:\tlearn: 0.4905631\ttotal: 5m 35s\tremaining: 11m 49s\n",
            "321:\tlearn: 0.4905269\ttotal: 5m 36s\tremaining: 11m 48s\n",
            "322:\tlearn: 0.4904715\ttotal: 5m 37s\tremaining: 11m 46s\n",
            "323:\tlearn: 0.4904256\ttotal: 5m 38s\tremaining: 11m 45s\n",
            "324:\tlearn: 0.4903795\ttotal: 5m 38s\tremaining: 11m 43s\n",
            "325:\tlearn: 0.4903387\ttotal: 5m 39s\tremaining: 11m 41s\n",
            "326:\tlearn: 0.4902695\ttotal: 5m 39s\tremaining: 11m 39s\n",
            "327:\tlearn: 0.4902031\ttotal: 5m 41s\tremaining: 11m 39s\n",
            "328:\tlearn: 0.4901798\ttotal: 5m 42s\tremaining: 11m 38s\n",
            "329:\tlearn: 0.4901203\ttotal: 5m 43s\tremaining: 11m 37s\n",
            "330:\tlearn: 0.4900515\ttotal: 5m 45s\tremaining: 11m 37s\n",
            "331:\tlearn: 0.4900212\ttotal: 5m 45s\tremaining: 11m 35s\n",
            "332:\tlearn: 0.4899887\ttotal: 5m 46s\tremaining: 11m 34s\n",
            "333:\tlearn: 0.4899297\ttotal: 5m 47s\tremaining: 11m 32s\n",
            "334:\tlearn: 0.4898401\ttotal: 5m 48s\tremaining: 11m 31s\n",
            "335:\tlearn: 0.4897938\ttotal: 5m 48s\tremaining: 11m 29s\n",
            "336:\tlearn: 0.4897544\ttotal: 5m 49s\tremaining: 11m 27s\n",
            "337:\tlearn: 0.4897171\ttotal: 5m 49s\tremaining: 11m 25s\n",
            "338:\tlearn: 0.4896477\ttotal: 5m 51s\tremaining: 11m 24s\n",
            "339:\tlearn: 0.4895691\ttotal: 5m 51s\tremaining: 11m 22s\n",
            "340:\tlearn: 0.4895129\ttotal: 5m 52s\tremaining: 11m 20s\n",
            "341:\tlearn: 0.4894665\ttotal: 5m 52s\tremaining: 11m 19s\n",
            "342:\tlearn: 0.4894134\ttotal: 5m 53s\tremaining: 11m 17s\n",
            "343:\tlearn: 0.4893986\ttotal: 5m 54s\tremaining: 11m 16s\n",
            "344:\tlearn: 0.4893752\ttotal: 5m 55s\tremaining: 11m 14s\n",
            "345:\tlearn: 0.4893326\ttotal: 5m 56s\tremaining: 11m 13s\n",
            "346:\tlearn: 0.4892979\ttotal: 5m 58s\tremaining: 11m 13s\n",
            "347:\tlearn: 0.4892099\ttotal: 5m 59s\tremaining: 11m 12s\n",
            "348:\tlearn: 0.4891823\ttotal: 6m\tremaining: 11m 11s\n",
            "349:\tlearn: 0.4891571\ttotal: 6m\tremaining: 11m 10s\n",
            "350:\tlearn: 0.4891244\ttotal: 6m 1s\tremaining: 11m 8s\n",
            "351:\tlearn: 0.4890948\ttotal: 6m 2s\tremaining: 11m 6s\n",
            "352:\tlearn: 0.4890126\ttotal: 6m 2s\tremaining: 11m 5s\n",
            "353:\tlearn: 0.4889801\ttotal: 6m 4s\tremaining: 11m 4s\n",
            "354:\tlearn: 0.4889114\ttotal: 6m 4s\tremaining: 11m 2s\n",
            "355:\tlearn: 0.4888650\ttotal: 6m 5s\tremaining: 11m\n",
            "356:\tlearn: 0.4888128\ttotal: 6m 6s\tremaining: 10m 59s\n",
            "357:\tlearn: 0.4887635\ttotal: 6m 7s\tremaining: 10m 58s\n",
            "358:\tlearn: 0.4887295\ttotal: 6m 7s\tremaining: 10m 57s\n",
            "359:\tlearn: 0.4886785\ttotal: 6m 8s\tremaining: 10m 55s\n",
            "360:\tlearn: 0.4886444\ttotal: 6m 9s\tremaining: 10m 54s\n",
            "361:\tlearn: 0.4885875\ttotal: 6m 10s\tremaining: 10m 53s\n",
            "362:\tlearn: 0.4885673\ttotal: 6m 11s\tremaining: 10m 52s\n",
            "363:\tlearn: 0.4885106\ttotal: 6m 13s\tremaining: 10m 52s\n",
            "364:\tlearn: 0.4884778\ttotal: 6m 14s\tremaining: 10m 51s\n",
            "365:\tlearn: 0.4884469\ttotal: 6m 15s\tremaining: 10m 51s\n",
            "366:\tlearn: 0.4884134\ttotal: 6m 17s\tremaining: 10m 51s\n",
            "367:\tlearn: 0.4883365\ttotal: 6m 18s\tremaining: 10m 50s\n",
            "368:\tlearn: 0.4883084\ttotal: 6m 19s\tremaining: 10m 48s\n",
            "369:\tlearn: 0.4882707\ttotal: 6m 20s\tremaining: 10m 47s\n",
            "370:\tlearn: 0.4882336\ttotal: 6m 20s\tremaining: 10m 45s\n",
            "371:\tlearn: 0.4882162\ttotal: 6m 21s\tremaining: 10m 44s\n",
            "372:\tlearn: 0.4881885\ttotal: 6m 22s\tremaining: 10m 43s\n",
            "373:\tlearn: 0.4881517\ttotal: 6m 23s\tremaining: 10m 41s\n",
            "374:\tlearn: 0.4881250\ttotal: 6m 23s\tremaining: 10m 39s\n",
            "375:\tlearn: 0.4880972\ttotal: 6m 25s\tremaining: 10m 39s\n",
            "376:\tlearn: 0.4880779\ttotal: 6m 26s\tremaining: 10m 39s\n",
            "377:\tlearn: 0.4880207\ttotal: 6m 27s\tremaining: 10m 38s\n",
            "378:\tlearn: 0.4879821\ttotal: 6m 28s\tremaining: 10m 36s\n",
            "379:\tlearn: 0.4879365\ttotal: 6m 29s\tremaining: 10m 35s\n",
            "380:\tlearn: 0.4879025\ttotal: 6m 30s\tremaining: 10m 34s\n",
            "381:\tlearn: 0.4878353\ttotal: 6m 31s\tremaining: 10m 32s\n",
            "382:\tlearn: 0.4878194\ttotal: 6m 31s\tremaining: 10m 30s\n",
            "383:\tlearn: 0.4877528\ttotal: 6m 32s\tremaining: 10m 29s\n",
            "384:\tlearn: 0.4876699\ttotal: 6m 33s\tremaining: 10m 28s\n",
            "385:\tlearn: 0.4876473\ttotal: 6m 34s\tremaining: 10m 26s\n",
            "386:\tlearn: 0.4876001\ttotal: 6m 34s\tremaining: 10m 25s\n",
            "387:\tlearn: 0.4874925\ttotal: 6m 35s\tremaining: 10m 24s\n",
            "388:\tlearn: 0.4874356\ttotal: 6m 36s\tremaining: 10m 22s\n",
            "389:\tlearn: 0.4873990\ttotal: 6m 37s\tremaining: 10m 21s\n",
            "390:\tlearn: 0.4873689\ttotal: 6m 37s\tremaining: 10m 19s\n",
            "391:\tlearn: 0.4873078\ttotal: 6m 39s\tremaining: 10m 19s\n",
            "392:\tlearn: 0.4872447\ttotal: 6m 40s\tremaining: 10m 18s\n",
            "393:\tlearn: 0.4872179\ttotal: 6m 41s\tremaining: 10m 17s\n",
            "394:\tlearn: 0.4872022\ttotal: 6m 42s\tremaining: 10m 17s\n",
            "395:\tlearn: 0.4871587\ttotal: 6m 43s\tremaining: 10m 15s\n",
            "396:\tlearn: 0.4871253\ttotal: 6m 44s\tremaining: 10m 13s\n",
            "397:\tlearn: 0.4871009\ttotal: 6m 44s\tremaining: 10m 12s\n",
            "398:\tlearn: 0.4869877\ttotal: 6m 45s\tremaining: 10m 11s\n",
            "399:\tlearn: 0.4868948\ttotal: 6m 46s\tremaining: 10m 9s\n",
            "400:\tlearn: 0.4868754\ttotal: 6m 47s\tremaining: 10m 8s\n",
            "401:\tlearn: 0.4867951\ttotal: 6m 48s\tremaining: 10m 7s\n",
            "402:\tlearn: 0.4867740\ttotal: 6m 49s\tremaining: 10m 5s\n",
            "403:\tlearn: 0.4867480\ttotal: 6m 49s\tremaining: 10m 4s\n",
            "404:\tlearn: 0.4867023\ttotal: 6m 50s\tremaining: 10m 2s\n",
            "405:\tlearn: 0.4866773\ttotal: 6m 51s\tremaining: 10m 1s\n",
            "406:\tlearn: 0.4866306\ttotal: 6m 51s\tremaining: 10m\n",
            "407:\tlearn: 0.4865765\ttotal: 6m 52s\tremaining: 9m 58s\n",
            "408:\tlearn: 0.4865087\ttotal: 6m 53s\tremaining: 9m 57s\n",
            "409:\tlearn: 0.4864882\ttotal: 6m 55s\tremaining: 9m 57s\n",
            "410:\tlearn: 0.4864549\ttotal: 6m 56s\tremaining: 9m 56s\n",
            "411:\tlearn: 0.4864087\ttotal: 6m 57s\tremaining: 9m 55s\n",
            "412:\tlearn: 0.4863835\ttotal: 6m 58s\tremaining: 9m 54s\n",
            "413:\tlearn: 0.4863422\ttotal: 6m 58s\tremaining: 9m 53s\n",
            "414:\tlearn: 0.4862934\ttotal: 6m 59s\tremaining: 9m 51s\n",
            "415:\tlearn: 0.4862243\ttotal: 7m\tremaining: 9m 49s\n",
            "416:\tlearn: 0.4861404\ttotal: 7m 1s\tremaining: 9m 49s\n",
            "417:\tlearn: 0.4861108\ttotal: 7m 1s\tremaining: 9m 47s\n",
            "418:\tlearn: 0.4860762\ttotal: 7m 2s\tremaining: 9m 45s\n",
            "419:\tlearn: 0.4860222\ttotal: 7m 3s\tremaining: 9m 44s\n",
            "420:\tlearn: 0.4859461\ttotal: 7m 4s\tremaining: 9m 43s\n",
            "421:\tlearn: 0.4859312\ttotal: 7m 4s\tremaining: 9m 41s\n",
            "422:\tlearn: 0.4859082\ttotal: 7m 5s\tremaining: 9m 40s\n",
            "423:\tlearn: 0.4858721\ttotal: 7m 6s\tremaining: 9m 38s\n",
            "424:\tlearn: 0.4858395\ttotal: 7m 7s\tremaining: 9m 38s\n",
            "425:\tlearn: 0.4858106\ttotal: 7m 8s\tremaining: 9m 37s\n",
            "426:\tlearn: 0.4857660\ttotal: 7m 9s\tremaining: 9m 36s\n",
            "427:\tlearn: 0.4856971\ttotal: 7m 11s\tremaining: 9m 36s\n",
            "428:\tlearn: 0.4856560\ttotal: 7m 12s\tremaining: 9m 35s\n",
            "429:\tlearn: 0.4856244\ttotal: 7m 12s\tremaining: 9m 33s\n",
            "430:\tlearn: 0.4855529\ttotal: 7m 13s\tremaining: 9m 32s\n",
            "431:\tlearn: 0.4854706\ttotal: 7m 14s\tremaining: 9m 31s\n",
            "432:\tlearn: 0.4854026\ttotal: 7m 15s\tremaining: 9m 29s\n",
            "433:\tlearn: 0.4853665\ttotal: 7m 15s\tremaining: 9m 28s\n",
            "434:\tlearn: 0.4853274\ttotal: 7m 16s\tremaining: 9m 27s\n",
            "435:\tlearn: 0.4853047\ttotal: 7m 17s\tremaining: 9m 26s\n",
            "436:\tlearn: 0.4852474\ttotal: 7m 18s\tremaining: 9m 24s\n",
            "437:\tlearn: 0.4852036\ttotal: 7m 19s\tremaining: 9m 23s\n",
            "438:\tlearn: 0.4851204\ttotal: 7m 19s\tremaining: 9m 22s\n",
            "439:\tlearn: 0.4850476\ttotal: 7m 20s\tremaining: 9m 21s\n",
            "440:\tlearn: 0.4850064\ttotal: 7m 21s\tremaining: 9m 19s\n",
            "441:\tlearn: 0.4849771\ttotal: 7m 22s\tremaining: 9m 18s\n",
            "442:\tlearn: 0.4849242\ttotal: 7m 24s\tremaining: 9m 18s\n",
            "443:\tlearn: 0.4849128\ttotal: 7m 25s\tremaining: 9m 17s\n",
            "444:\tlearn: 0.4848613\ttotal: 7m 26s\tremaining: 9m 17s\n",
            "445:\tlearn: 0.4848493\ttotal: 7m 27s\tremaining: 9m 15s\n",
            "446:\tlearn: 0.4847304\ttotal: 7m 27s\tremaining: 9m 14s\n",
            "447:\tlearn: 0.4846962\ttotal: 7m 28s\tremaining: 9m 12s\n",
            "448:\tlearn: 0.4846360\ttotal: 7m 29s\tremaining: 9m 11s\n",
            "449:\tlearn: 0.4846130\ttotal: 7m 30s\tremaining: 9m 10s\n",
            "450:\tlearn: 0.4845719\ttotal: 7m 30s\tremaining: 9m 8s\n",
            "451:\tlearn: 0.4845278\ttotal: 7m 31s\tremaining: 9m 7s\n",
            "452:\tlearn: 0.4845009\ttotal: 7m 32s\tremaining: 9m 6s\n",
            "453:\tlearn: 0.4844762\ttotal: 7m 33s\tremaining: 9m 5s\n",
            "454:\tlearn: 0.4844613\ttotal: 7m 33s\tremaining: 9m 3s\n",
            "455:\tlearn: 0.4844249\ttotal: 7m 34s\tremaining: 9m 2s\n",
            "456:\tlearn: 0.4843864\ttotal: 7m 35s\tremaining: 9m 1s\n",
            "457:\tlearn: 0.4843292\ttotal: 7m 36s\tremaining: 9m\n",
            "458:\tlearn: 0.4843007\ttotal: 7m 37s\tremaining: 8m 59s\n",
            "459:\tlearn: 0.4842598\ttotal: 7m 39s\tremaining: 8m 59s\n",
            "460:\tlearn: 0.4842268\ttotal: 7m 40s\tremaining: 8m 58s\n",
            "461:\tlearn: 0.4841591\ttotal: 7m 41s\tremaining: 8m 56s\n",
            "462:\tlearn: 0.4840827\ttotal: 7m 41s\tremaining: 8m 55s\n",
            "463:\tlearn: 0.4840645\ttotal: 7m 42s\tremaining: 8m 54s\n",
            "464:\tlearn: 0.4840463\ttotal: 7m 43s\tremaining: 8m 52s\n",
            "465:\tlearn: 0.4840323\ttotal: 7m 44s\tremaining: 8m 51s\n",
            "466:\tlearn: 0.4839511\ttotal: 7m 44s\tremaining: 8m 50s\n",
            "467:\tlearn: 0.4838712\ttotal: 7m 45s\tremaining: 8m 49s\n",
            "468:\tlearn: 0.4837769\ttotal: 7m 46s\tremaining: 8m 48s\n",
            "469:\tlearn: 0.4837343\ttotal: 7m 47s\tremaining: 8m 47s\n",
            "470:\tlearn: 0.4836920\ttotal: 7m 48s\tremaining: 8m 45s\n",
            "471:\tlearn: 0.4836590\ttotal: 7m 48s\tremaining: 8m 44s\n",
            "472:\tlearn: 0.4836174\ttotal: 7m 49s\tremaining: 8m 42s\n",
            "473:\tlearn: 0.4835934\ttotal: 7m 50s\tremaining: 8m 42s\n",
            "474:\tlearn: 0.4835553\ttotal: 7m 51s\tremaining: 8m 41s\n",
            "475:\tlearn: 0.4835418\ttotal: 7m 53s\tremaining: 8m 40s\n",
            "476:\tlearn: 0.4834713\ttotal: 7m 55s\tremaining: 8m 40s\n",
            "477:\tlearn: 0.4834403\ttotal: 7m 55s\tremaining: 8m 39s\n",
            "478:\tlearn: 0.4834081\ttotal: 7m 56s\tremaining: 8m 38s\n",
            "479:\tlearn: 0.4833710\ttotal: 7m 57s\tremaining: 8m 36s\n",
            "480:\tlearn: 0.4832899\ttotal: 7m 57s\tremaining: 8m 35s\n",
            "481:\tlearn: 0.4832613\ttotal: 7m 58s\tremaining: 8m 34s\n",
            "482:\tlearn: 0.4832250\ttotal: 7m 59s\tremaining: 8m 33s\n",
            "483:\tlearn: 0.4831830\ttotal: 7m 59s\tremaining: 8m 31s\n",
            "484:\tlearn: 0.4831730\ttotal: 8m\tremaining: 8m 30s\n",
            "485:\tlearn: 0.4831617\ttotal: 8m 1s\tremaining: 8m 29s\n",
            "486:\tlearn: 0.4831359\ttotal: 8m 2s\tremaining: 8m 28s\n",
            "487:\tlearn: 0.4831067\ttotal: 8m 2s\tremaining: 8m 26s\n",
            "488:\tlearn: 0.4830947\ttotal: 8m 3s\tremaining: 8m 25s\n",
            "489:\tlearn: 0.4830703\ttotal: 8m 4s\tremaining: 8m 24s\n",
            "490:\tlearn: 0.4830358\ttotal: 8m 5s\tremaining: 8m 23s\n",
            "491:\tlearn: 0.4830114\ttotal: 8m 6s\tremaining: 8m 22s\n",
            "492:\tlearn: 0.4829547\ttotal: 8m 8s\tremaining: 8m 22s\n",
            "493:\tlearn: 0.4828777\ttotal: 8m 9s\tremaining: 8m 21s\n",
            "494:\tlearn: 0.4828175\ttotal: 8m 9s\tremaining: 8m 19s\n",
            "495:\tlearn: 0.4827082\ttotal: 8m 10s\tremaining: 8m 18s\n",
            "496:\tlearn: 0.4826893\ttotal: 8m 11s\tremaining: 8m 17s\n",
            "497:\tlearn: 0.4826304\ttotal: 8m 12s\tremaining: 8m 16s\n",
            "498:\tlearn: 0.4826089\ttotal: 8m 13s\tremaining: 8m 15s\n",
            "499:\tlearn: 0.4825682\ttotal: 8m 13s\tremaining: 8m 13s\n",
            "500:\tlearn: 0.4824853\ttotal: 8m 14s\tremaining: 8m 12s\n",
            "501:\tlearn: 0.4823998\ttotal: 8m 15s\tremaining: 8m 11s\n",
            "502:\tlearn: 0.4823341\ttotal: 8m 16s\tremaining: 8m 10s\n",
            "503:\tlearn: 0.4822762\ttotal: 8m 17s\tremaining: 8m 9s\n",
            "504:\tlearn: 0.4822095\ttotal: 8m 17s\tremaining: 8m 7s\n",
            "505:\tlearn: 0.4821798\ttotal: 8m 18s\tremaining: 8m 6s\n",
            "506:\tlearn: 0.4821532\ttotal: 8m 19s\tremaining: 8m 5s\n",
            "507:\tlearn: 0.4821372\ttotal: 8m 20s\tremaining: 8m 4s\n",
            "508:\tlearn: 0.4820938\ttotal: 8m 21s\tremaining: 8m 4s\n",
            "509:\tlearn: 0.4820622\ttotal: 8m 23s\tremaining: 8m 3s\n",
            "510:\tlearn: 0.4819977\ttotal: 8m 24s\tremaining: 8m 2s\n",
            "511:\tlearn: 0.4819640\ttotal: 8m 24s\tremaining: 8m 1s\n",
            "512:\tlearn: 0.4819482\ttotal: 8m 25s\tremaining: 7m 59s\n",
            "513:\tlearn: 0.4819173\ttotal: 8m 26s\tremaining: 7m 58s\n",
            "514:\tlearn: 0.4818829\ttotal: 8m 26s\tremaining: 7m 57s\n",
            "515:\tlearn: 0.4818138\ttotal: 8m 27s\tremaining: 7m 56s\n",
            "516:\tlearn: 0.4817773\ttotal: 8m 28s\tremaining: 7m 54s\n",
            "517:\tlearn: 0.4817314\ttotal: 8m 28s\tremaining: 7m 53s\n",
            "518:\tlearn: 0.4816937\ttotal: 8m 29s\tremaining: 7m 52s\n",
            "519:\tlearn: 0.4816641\ttotal: 8m 30s\tremaining: 7m 51s\n",
            "520:\tlearn: 0.4816352\ttotal: 8m 31s\tremaining: 7m 50s\n",
            "521:\tlearn: 0.4815734\ttotal: 8m 31s\tremaining: 7m 48s\n",
            "522:\tlearn: 0.4815405\ttotal: 8m 32s\tremaining: 7m 47s\n",
            "523:\tlearn: 0.4815110\ttotal: 8m 33s\tremaining: 7m 46s\n",
            "524:\tlearn: 0.4814935\ttotal: 8m 34s\tremaining: 7m 45s\n",
            "525:\tlearn: 0.4814406\ttotal: 8m 36s\tremaining: 7m 45s\n",
            "526:\tlearn: 0.4814047\ttotal: 8m 38s\tremaining: 7m 44s\n",
            "527:\tlearn: 0.4813843\ttotal: 8m 39s\tremaining: 7m 44s\n",
            "528:\tlearn: 0.4813594\ttotal: 8m 41s\tremaining: 7m 43s\n",
            "529:\tlearn: 0.4813404\ttotal: 8m 41s\tremaining: 7m 42s\n",
            "530:\tlearn: 0.4813244\ttotal: 8m 42s\tremaining: 7m 41s\n",
            "531:\tlearn: 0.4812737\ttotal: 8m 43s\tremaining: 7m 40s\n",
            "532:\tlearn: 0.4812455\ttotal: 8m 44s\tremaining: 7m 39s\n",
            "533:\tlearn: 0.4812065\ttotal: 8m 45s\tremaining: 7m 38s\n",
            "534:\tlearn: 0.4811531\ttotal: 8m 45s\tremaining: 7m 37s\n",
            "535:\tlearn: 0.4811423\ttotal: 8m 46s\tremaining: 7m 35s\n",
            "536:\tlearn: 0.4810688\ttotal: 8m 47s\tremaining: 7m 34s\n",
            "537:\tlearn: 0.4810467\ttotal: 8m 48s\tremaining: 7m 33s\n",
            "538:\tlearn: 0.4810278\ttotal: 8m 48s\tremaining: 7m 32s\n",
            "539:\tlearn: 0.4809796\ttotal: 8m 49s\tremaining: 7m 31s\n",
            "540:\tlearn: 0.4809578\ttotal: 8m 50s\tremaining: 7m 30s\n",
            "541:\tlearn: 0.4809180\ttotal: 8m 51s\tremaining: 7m 29s\n",
            "542:\tlearn: 0.4808750\ttotal: 8m 53s\tremaining: 7m 28s\n",
            "543:\tlearn: 0.4808161\ttotal: 8m 54s\tremaining: 7m 28s\n",
            "544:\tlearn: 0.4807952\ttotal: 8m 55s\tremaining: 7m 26s\n",
            "545:\tlearn: 0.4807287\ttotal: 8m 55s\tremaining: 7m 25s\n",
            "546:\tlearn: 0.4807023\ttotal: 8m 56s\tremaining: 7m 24s\n",
            "547:\tlearn: 0.4806734\ttotal: 8m 57s\tremaining: 7m 23s\n",
            "548:\tlearn: 0.4806299\ttotal: 8m 58s\tremaining: 7m 22s\n",
            "549:\tlearn: 0.4805885\ttotal: 8m 59s\tremaining: 7m 21s\n",
            "550:\tlearn: 0.4805701\ttotal: 9m\tremaining: 7m 20s\n",
            "551:\tlearn: 0.4805343\ttotal: 9m\tremaining: 7m 18s\n",
            "552:\tlearn: 0.4804948\ttotal: 9m 1s\tremaining: 7m 17s\n",
            "553:\tlearn: 0.4804380\ttotal: 9m 2s\tremaining: 7m 16s\n",
            "554:\tlearn: 0.4804135\ttotal: 9m 3s\tremaining: 7m 15s\n",
            "555:\tlearn: 0.4803928\ttotal: 9m 3s\tremaining: 7m 14s\n",
            "556:\tlearn: 0.4803789\ttotal: 9m 4s\tremaining: 7m 13s\n",
            "557:\tlearn: 0.4803563\ttotal: 9m 6s\tremaining: 7m 13s\n",
            "558:\tlearn: 0.4803086\ttotal: 9m 8s\tremaining: 7m 12s\n",
            "559:\tlearn: 0.4802870\ttotal: 9m 10s\tremaining: 7m 12s\n",
            "560:\tlearn: 0.4802508\ttotal: 9m 12s\tremaining: 7m 12s\n",
            "561:\tlearn: 0.4802230\ttotal: 9m 13s\tremaining: 7m 11s\n",
            "562:\tlearn: 0.4801892\ttotal: 9m 16s\tremaining: 7m 11s\n",
            "563:\tlearn: 0.4801683\ttotal: 9m 17s\tremaining: 7m 11s\n",
            "564:\tlearn: 0.4801175\ttotal: 9m 18s\tremaining: 7m 9s\n",
            "565:\tlearn: 0.4800677\ttotal: 9m 19s\tremaining: 7m 8s\n",
            "566:\tlearn: 0.4800476\ttotal: 9m 20s\tremaining: 7m 7s\n",
            "567:\tlearn: 0.4799983\ttotal: 9m 20s\tremaining: 7m 6s\n",
            "568:\tlearn: 0.4799549\ttotal: 9m 21s\tremaining: 7m 5s\n",
            "569:\tlearn: 0.4799281\ttotal: 9m 22s\tremaining: 7m 4s\n",
            "570:\tlearn: 0.4798639\ttotal: 9m 24s\tremaining: 7m 3s\n",
            "571:\tlearn: 0.4798073\ttotal: 9m 25s\tremaining: 7m 3s\n",
            "572:\tlearn: 0.4796965\ttotal: 9m 26s\tremaining: 7m 2s\n",
            "573:\tlearn: 0.4796839\ttotal: 9m 27s\tremaining: 7m 1s\n",
            "574:\tlearn: 0.4796746\ttotal: 9m 28s\tremaining: 6m 59s\n",
            "575:\tlearn: 0.4795808\ttotal: 9m 28s\tremaining: 6m 58s\n",
            "576:\tlearn: 0.4795716\ttotal: 9m 29s\tremaining: 6m 57s\n",
            "577:\tlearn: 0.4795413\ttotal: 9m 30s\tremaining: 6m 56s\n",
            "578:\tlearn: 0.4795143\ttotal: 9m 31s\tremaining: 6m 55s\n",
            "579:\tlearn: 0.4794026\ttotal: 9m 31s\tremaining: 6m 54s\n",
            "580:\tlearn: 0.4793534\ttotal: 9m 32s\tremaining: 6m 52s\n",
            "581:\tlearn: 0.4793100\ttotal: 9m 33s\tremaining: 6m 51s\n",
            "582:\tlearn: 0.4792511\ttotal: 9m 34s\tremaining: 6m 50s\n",
            "583:\tlearn: 0.4792332\ttotal: 9m 34s\tremaining: 6m 49s\n",
            "584:\tlearn: 0.4791422\ttotal: 9m 36s\tremaining: 6m 48s\n",
            "585:\tlearn: 0.4791139\ttotal: 9m 37s\tremaining: 6m 47s\n",
            "586:\tlearn: 0.4790888\ttotal: 9m 38s\tremaining: 6m 46s\n",
            "587:\tlearn: 0.4790224\ttotal: 9m 39s\tremaining: 6m 46s\n",
            "588:\tlearn: 0.4789332\ttotal: 9m 41s\tremaining: 6m 45s\n",
            "589:\tlearn: 0.4788815\ttotal: 9m 41s\tremaining: 6m 44s\n",
            "590:\tlearn: 0.4788361\ttotal: 9m 42s\tremaining: 6m 43s\n",
            "591:\tlearn: 0.4788149\ttotal: 9m 43s\tremaining: 6m 42s\n",
            "592:\tlearn: 0.4787874\ttotal: 9m 44s\tremaining: 6m 40s\n",
            "593:\tlearn: 0.4787508\ttotal: 9m 45s\tremaining: 6m 40s\n",
            "594:\tlearn: 0.4787093\ttotal: 9m 46s\tremaining: 6m 38s\n",
            "595:\tlearn: 0.4786844\ttotal: 9m 46s\tremaining: 6m 37s\n",
            "596:\tlearn: 0.4786584\ttotal: 9m 47s\tremaining: 6m 36s\n",
            "597:\tlearn: 0.4786289\ttotal: 9m 48s\tremaining: 6m 35s\n",
            "598:\tlearn: 0.4785213\ttotal: 9m 49s\tremaining: 6m 34s\n",
            "599:\tlearn: 0.4784891\ttotal: 9m 49s\tremaining: 6m 33s\n",
            "600:\tlearn: 0.4784732\ttotal: 9m 50s\tremaining: 6m 32s\n",
            "601:\tlearn: 0.4784262\ttotal: 9m 52s\tremaining: 6m 31s\n",
            "602:\tlearn: 0.4784027\ttotal: 9m 53s\tremaining: 6m 30s\n",
            "603:\tlearn: 0.4783937\ttotal: 9m 54s\tremaining: 6m 29s\n",
            "604:\tlearn: 0.4783606\ttotal: 9m 55s\tremaining: 6m 28s\n",
            "605:\tlearn: 0.4783067\ttotal: 9m 56s\tremaining: 6m 27s\n",
            "606:\tlearn: 0.4782858\ttotal: 9m 56s\tremaining: 6m 26s\n",
            "607:\tlearn: 0.4782397\ttotal: 9m 57s\tremaining: 6m 25s\n",
            "608:\tlearn: 0.4782253\ttotal: 9m 58s\tremaining: 6m 24s\n",
            "609:\tlearn: 0.4781828\ttotal: 9m 59s\tremaining: 6m 23s\n",
            "610:\tlearn: 0.4781279\ttotal: 10m\tremaining: 6m 22s\n",
            "611:\tlearn: 0.4780232\ttotal: 10m 1s\tremaining: 6m 21s\n",
            "612:\tlearn: 0.4779708\ttotal: 10m 2s\tremaining: 6m 20s\n",
            "613:\tlearn: 0.4779564\ttotal: 10m 2s\tremaining: 6m 18s\n",
            "614:\tlearn: 0.4778858\ttotal: 10m 3s\tremaining: 6m 17s\n",
            "615:\tlearn: 0.4778621\ttotal: 10m 4s\tremaining: 6m 16s\n",
            "616:\tlearn: 0.4778471\ttotal: 10m 5s\tremaining: 6m 15s\n",
            "617:\tlearn: 0.4778191\ttotal: 10m 6s\tremaining: 6m 14s\n",
            "618:\tlearn: 0.4778027\ttotal: 10m 7s\tremaining: 6m 13s\n",
            "619:\tlearn: 0.4777625\ttotal: 10m 8s\tremaining: 6m 13s\n",
            "620:\tlearn: 0.4777286\ttotal: 10m 9s\tremaining: 6m 12s\n",
            "621:\tlearn: 0.4777095\ttotal: 10m 11s\tremaining: 6m 11s\n",
            "622:\tlearn: 0.4776615\ttotal: 10m 11s\tremaining: 6m 10s\n",
            "623:\tlearn: 0.4776360\ttotal: 10m 12s\tremaining: 6m 8s\n",
            "624:\tlearn: 0.4776146\ttotal: 10m 13s\tremaining: 6m 8s\n",
            "625:\tlearn: 0.4775851\ttotal: 10m 13s\tremaining: 6m 6s\n",
            "626:\tlearn: 0.4775688\ttotal: 10m 14s\tremaining: 6m 5s\n",
            "627:\tlearn: 0.4774745\ttotal: 10m 15s\tremaining: 6m 4s\n",
            "628:\tlearn: 0.4774381\ttotal: 10m 16s\tremaining: 6m 3s\n",
            "629:\tlearn: 0.4774120\ttotal: 10m 17s\tremaining: 6m 2s\n",
            "630:\tlearn: 0.4773683\ttotal: 10m 17s\tremaining: 6m 1s\n",
            "631:\tlearn: 0.4773324\ttotal: 10m 18s\tremaining: 6m\n",
            "632:\tlearn: 0.4773038\ttotal: 10m 19s\tremaining: 5m 59s\n",
            "633:\tlearn: 0.4772814\ttotal: 10m 20s\tremaining: 5m 58s\n",
            "634:\tlearn: 0.4772488\ttotal: 10m 21s\tremaining: 5m 57s\n",
            "635:\tlearn: 0.4771797\ttotal: 10m 23s\tremaining: 5m 56s\n",
            "636:\tlearn: 0.4771636\ttotal: 10m 24s\tremaining: 5m 55s\n",
            "637:\tlearn: 0.4771276\ttotal: 10m 24s\tremaining: 5m 54s\n",
            "638:\tlearn: 0.4770978\ttotal: 10m 25s\tremaining: 5m 53s\n",
            "639:\tlearn: 0.4770644\ttotal: 10m 26s\tremaining: 5m 52s\n",
            "640:\tlearn: 0.4770431\ttotal: 10m 27s\tremaining: 5m 51s\n",
            "641:\tlearn: 0.4770219\ttotal: 10m 27s\tremaining: 5m 50s\n",
            "642:\tlearn: 0.4769890\ttotal: 10m 28s\tremaining: 5m 48s\n",
            "643:\tlearn: 0.4769509\ttotal: 10m 29s\tremaining: 5m 47s\n",
            "644:\tlearn: 0.4769155\ttotal: 10m 30s\tremaining: 5m 46s\n",
            "645:\tlearn: 0.4768775\ttotal: 10m 30s\tremaining: 5m 45s\n",
            "646:\tlearn: 0.4768680\ttotal: 10m 31s\tremaining: 5m 44s\n",
            "647:\tlearn: 0.4768499\ttotal: 10m 32s\tremaining: 5m 43s\n",
            "648:\tlearn: 0.4768254\ttotal: 10m 33s\tremaining: 5m 42s\n",
            "649:\tlearn: 0.4768175\ttotal: 10m 34s\tremaining: 5m 41s\n",
            "650:\tlearn: 0.4767793\ttotal: 10m 35s\tremaining: 5m 40s\n",
            "651:\tlearn: 0.4767388\ttotal: 10m 36s\tremaining: 5m 39s\n",
            "652:\tlearn: 0.4767149\ttotal: 10m 37s\tremaining: 5m 39s\n",
            "653:\tlearn: 0.4766748\ttotal: 10m 38s\tremaining: 5m 37s\n",
            "654:\tlearn: 0.4766568\ttotal: 10m 39s\tremaining: 5m 36s\n",
            "655:\tlearn: 0.4766442\ttotal: 10m 40s\tremaining: 5m 35s\n",
            "656:\tlearn: 0.4765884\ttotal: 10m 41s\tremaining: 5m 34s\n",
            "657:\tlearn: 0.4765748\ttotal: 10m 41s\tremaining: 5m 33s\n",
            "658:\tlearn: 0.4765610\ttotal: 10m 42s\tremaining: 5m 32s\n",
            "659:\tlearn: 0.4765247\ttotal: 10m 43s\tremaining: 5m 31s\n",
            "660:\tlearn: 0.4764819\ttotal: 10m 44s\tremaining: 5m 30s\n",
            "661:\tlearn: 0.4764314\ttotal: 10m 44s\tremaining: 5m 29s\n",
            "662:\tlearn: 0.4763999\ttotal: 10m 45s\tremaining: 5m 28s\n",
            "663:\tlearn: 0.4763750\ttotal: 10m 46s\tremaining: 5m 27s\n",
            "664:\tlearn: 0.4763594\ttotal: 10m 47s\tremaining: 5m 26s\n",
            "665:\tlearn: 0.4763016\ttotal: 10m 47s\tremaining: 5m 24s\n",
            "666:\tlearn: 0.4762792\ttotal: 10m 48s\tremaining: 5m 23s\n",
            "667:\tlearn: 0.4762479\ttotal: 10m 49s\tremaining: 5m 22s\n",
            "668:\tlearn: 0.4762378\ttotal: 10m 51s\tremaining: 5m 22s\n",
            "669:\tlearn: 0.4761849\ttotal: 10m 52s\tremaining: 5m 21s\n",
            "670:\tlearn: 0.4761848\ttotal: 10m 53s\tremaining: 5m 20s\n",
            "671:\tlearn: 0.4761145\ttotal: 10m 54s\tremaining: 5m 19s\n",
            "672:\tlearn: 0.4760900\ttotal: 10m 54s\tremaining: 5m 18s\n",
            "673:\tlearn: 0.4760663\ttotal: 10m 55s\tremaining: 5m 16s\n",
            "674:\tlearn: 0.4760084\ttotal: 10m 56s\tremaining: 5m 16s\n",
            "675:\tlearn: 0.4759672\ttotal: 10m 57s\tremaining: 5m 15s\n",
            "676:\tlearn: 0.4759451\ttotal: 10m 58s\tremaining: 5m 14s\n",
            "677:\tlearn: 0.4759263\ttotal: 10m 59s\tremaining: 5m 13s\n",
            "678:\tlearn: 0.4758814\ttotal: 11m 1s\tremaining: 5m 12s\n",
            "679:\tlearn: 0.4758472\ttotal: 11m 1s\tremaining: 5m 11s\n",
            "680:\tlearn: 0.4758276\ttotal: 11m 2s\tremaining: 5m 10s\n",
            "681:\tlearn: 0.4758072\ttotal: 11m 3s\tremaining: 5m 9s\n",
            "682:\tlearn: 0.4757686\ttotal: 11m 4s\tremaining: 5m 8s\n",
            "683:\tlearn: 0.4757591\ttotal: 11m 5s\tremaining: 5m 7s\n",
            "684:\tlearn: 0.4757441\ttotal: 11m 7s\tremaining: 5m 6s\n",
            "685:\tlearn: 0.4757062\ttotal: 11m 8s\tremaining: 5m 5s\n",
            "686:\tlearn: 0.4756953\ttotal: 11m 8s\tremaining: 5m 4s\n",
            "687:\tlearn: 0.4756890\ttotal: 11m 9s\tremaining: 5m 3s\n",
            "688:\tlearn: 0.4756775\ttotal: 11m 10s\tremaining: 5m 2s\n",
            "689:\tlearn: 0.4756489\ttotal: 11m 11s\tremaining: 5m 1s\n",
            "690:\tlearn: 0.4756136\ttotal: 11m 11s\tremaining: 5m\n",
            "691:\tlearn: 0.4755533\ttotal: 11m 12s\tremaining: 4m 59s\n",
            "692:\tlearn: 0.4755182\ttotal: 11m 13s\tremaining: 4m 58s\n",
            "693:\tlearn: 0.4755038\ttotal: 11m 14s\tremaining: 4m 57s\n",
            "694:\tlearn: 0.4754938\ttotal: 11m 14s\tremaining: 4m 56s\n",
            "695:\tlearn: 0.4754413\ttotal: 11m 15s\tremaining: 4m 55s\n",
            "696:\tlearn: 0.4754061\ttotal: 11m 16s\tremaining: 4m 54s\n",
            "697:\tlearn: 0.4753574\ttotal: 11m 17s\tremaining: 4m 52s\n",
            "698:\tlearn: 0.4752917\ttotal: 11m 18s\tremaining: 4m 51s\n",
            "699:\tlearn: 0.4752621\ttotal: 11m 19s\tremaining: 4m 51s\n",
            "700:\tlearn: 0.4752211\ttotal: 11m 20s\tremaining: 4m 50s\n",
            "701:\tlearn: 0.4751996\ttotal: 11m 22s\tremaining: 4m 49s\n",
            "702:\tlearn: 0.4751624\ttotal: 11m 22s\tremaining: 4m 48s\n",
            "703:\tlearn: 0.4751397\ttotal: 11m 23s\tremaining: 4m 47s\n",
            "704:\tlearn: 0.4751298\ttotal: 11m 24s\tremaining: 4m 46s\n",
            "705:\tlearn: 0.4751117\ttotal: 11m 25s\tremaining: 4m 45s\n",
            "706:\tlearn: 0.4751024\ttotal: 11m 25s\tremaining: 4m 44s\n",
            "707:\tlearn: 0.4750354\ttotal: 11m 26s\tremaining: 4m 43s\n",
            "708:\tlearn: 0.4750185\ttotal: 11m 27s\tremaining: 4m 42s\n",
            "709:\tlearn: 0.4749931\ttotal: 11m 27s\tremaining: 4m 40s\n",
            "710:\tlearn: 0.4749242\ttotal: 11m 29s\tremaining: 4m 40s\n",
            "711:\tlearn: 0.4749104\ttotal: 11m 29s\tremaining: 4m 38s\n",
            "712:\tlearn: 0.4748856\ttotal: 11m 30s\tremaining: 4m 37s\n",
            "713:\tlearn: 0.4748712\ttotal: 11m 31s\tremaining: 4m 37s\n",
            "714:\tlearn: 0.4748221\ttotal: 11m 32s\tremaining: 4m 35s\n",
            "715:\tlearn: 0.4747905\ttotal: 11m 33s\tremaining: 4m 35s\n",
            "716:\tlearn: 0.4747666\ttotal: 11m 35s\tremaining: 4m 34s\n",
            "717:\tlearn: 0.4747226\ttotal: 11m 36s\tremaining: 4m 33s\n",
            "718:\tlearn: 0.4746512\ttotal: 11m 37s\tremaining: 4m 32s\n",
            "719:\tlearn: 0.4746372\ttotal: 11m 38s\tremaining: 4m 31s\n",
            "720:\tlearn: 0.4745918\ttotal: 11m 38s\tremaining: 4m 30s\n",
            "721:\tlearn: 0.4745769\ttotal: 11m 39s\tremaining: 4m 29s\n",
            "722:\tlearn: 0.4745333\ttotal: 11m 40s\tremaining: 4m 28s\n",
            "723:\tlearn: 0.4745175\ttotal: 11m 41s\tremaining: 4m 27s\n",
            "724:\tlearn: 0.4745083\ttotal: 11m 41s\tremaining: 4m 26s\n",
            "725:\tlearn: 0.4744566\ttotal: 11m 42s\tremaining: 4m 25s\n",
            "726:\tlearn: 0.4744277\ttotal: 11m 43s\tremaining: 4m 24s\n",
            "727:\tlearn: 0.4744085\ttotal: 11m 44s\tremaining: 4m 23s\n",
            "728:\tlearn: 0.4743453\ttotal: 11m 45s\tremaining: 4m 22s\n",
            "729:\tlearn: 0.4743231\ttotal: 11m 45s\tremaining: 4m 21s\n",
            "730:\tlearn: 0.4742587\ttotal: 11m 46s\tremaining: 4m 20s\n",
            "731:\tlearn: 0.4742262\ttotal: 11m 47s\tremaining: 4m 19s\n",
            "732:\tlearn: 0.4742103\ttotal: 11m 49s\tremaining: 4m 18s\n",
            "733:\tlearn: 0.4741709\ttotal: 11m 50s\tremaining: 4m 17s\n",
            "734:\tlearn: 0.4741121\ttotal: 11m 51s\tremaining: 4m 16s\n",
            "735:\tlearn: 0.4740897\ttotal: 11m 52s\tremaining: 4m 15s\n",
            "736:\tlearn: 0.4740589\ttotal: 11m 53s\tremaining: 4m 14s\n",
            "737:\tlearn: 0.4740283\ttotal: 11m 53s\tremaining: 4m 13s\n",
            "738:\tlearn: 0.4739771\ttotal: 11m 54s\tremaining: 4m 12s\n",
            "739:\tlearn: 0.4738956\ttotal: 11m 55s\tremaining: 4m 11s\n",
            "740:\tlearn: 0.4738916\ttotal: 11m 56s\tremaining: 4m 10s\n",
            "741:\tlearn: 0.4738628\ttotal: 11m 56s\tremaining: 4m 9s\n",
            "742:\tlearn: 0.4738521\ttotal: 11m 57s\tremaining: 4m 8s\n",
            "743:\tlearn: 0.4738282\ttotal: 11m 58s\tremaining: 4m 7s\n",
            "744:\tlearn: 0.4738005\ttotal: 11m 59s\tremaining: 4m 6s\n",
            "745:\tlearn: 0.4737514\ttotal: 12m\tremaining: 4m 5s\n",
            "746:\tlearn: 0.4736780\ttotal: 12m\tremaining: 4m 4s\n",
            "747:\tlearn: 0.4736390\ttotal: 12m 1s\tremaining: 4m 3s\n",
            "748:\tlearn: 0.4736146\ttotal: 12m 3s\tremaining: 4m 2s\n",
            "749:\tlearn: 0.4736047\ttotal: 12m 4s\tremaining: 4m 1s\n",
            "750:\tlearn: 0.4735813\ttotal: 12m 5s\tremaining: 4m\n",
            "751:\tlearn: 0.4735446\ttotal: 12m 6s\tremaining: 3m 59s\n",
            "752:\tlearn: 0.4735239\ttotal: 12m 7s\tremaining: 3m 58s\n",
            "753:\tlearn: 0.4735013\ttotal: 12m 7s\tremaining: 3m 57s\n",
            "754:\tlearn: 0.4734710\ttotal: 12m 8s\tremaining: 3m 56s\n",
            "755:\tlearn: 0.4734534\ttotal: 12m 9s\tremaining: 3m 55s\n",
            "756:\tlearn: 0.4734092\ttotal: 12m 10s\tremaining: 3m 54s\n",
            "757:\tlearn: 0.4733738\ttotal: 12m 10s\tremaining: 3m 53s\n",
            "758:\tlearn: 0.4733089\ttotal: 12m 11s\tremaining: 3m 52s\n",
            "759:\tlearn: 0.4732392\ttotal: 12m 12s\tremaining: 3m 51s\n",
            "760:\tlearn: 0.4732308\ttotal: 12m 13s\tremaining: 3m 50s\n",
            "761:\tlearn: 0.4732136\ttotal: 12m 13s\tremaining: 3m 49s\n",
            "762:\tlearn: 0.4732019\ttotal: 12m 14s\tremaining: 3m 48s\n",
            "763:\tlearn: 0.4731812\ttotal: 12m 15s\tremaining: 3m 47s\n",
            "764:\tlearn: 0.4731519\ttotal: 12m 16s\tremaining: 3m 46s\n",
            "765:\tlearn: 0.4731267\ttotal: 12m 17s\tremaining: 3m 45s\n",
            "766:\tlearn: 0.4731055\ttotal: 12m 18s\tremaining: 3m 44s\n",
            "767:\tlearn: 0.4730930\ttotal: 12m 20s\tremaining: 3m 43s\n",
            "768:\tlearn: 0.4730837\ttotal: 12m 20s\tremaining: 3m 42s\n",
            "769:\tlearn: 0.4730680\ttotal: 12m 21s\tremaining: 3m 41s\n",
            "770:\tlearn: 0.4730480\ttotal: 12m 22s\tremaining: 3m 40s\n",
            "771:\tlearn: 0.4730315\ttotal: 12m 23s\tremaining: 3m 39s\n",
            "772:\tlearn: 0.4729958\ttotal: 12m 23s\tremaining: 3m 38s\n",
            "773:\tlearn: 0.4729554\ttotal: 12m 24s\tremaining: 3m 37s\n",
            "774:\tlearn: 0.4728954\ttotal: 12m 25s\tremaining: 3m 36s\n",
            "775:\tlearn: 0.4728776\ttotal: 12m 26s\tremaining: 3m 35s\n",
            "776:\tlearn: 0.4728609\ttotal: 12m 26s\tremaining: 3m 34s\n",
            "777:\tlearn: 0.4728491\ttotal: 12m 27s\tremaining: 3m 33s\n",
            "778:\tlearn: 0.4728296\ttotal: 12m 28s\tremaining: 3m 32s\n",
            "779:\tlearn: 0.4728119\ttotal: 12m 29s\tremaining: 3m 31s\n",
            "780:\tlearn: 0.4728026\ttotal: 12m 29s\tremaining: 3m 30s\n",
            "781:\tlearn: 0.4727664\ttotal: 12m 30s\tremaining: 3m 29s\n",
            "782:\tlearn: 0.4726947\ttotal: 12m 32s\tremaining: 3m 28s\n",
            "783:\tlearn: 0.4726723\ttotal: 12m 33s\tremaining: 3m 27s\n",
            "784:\tlearn: 0.4726330\ttotal: 12m 34s\tremaining: 3m 26s\n",
            "785:\tlearn: 0.4725826\ttotal: 12m 35s\tremaining: 3m 25s\n",
            "786:\tlearn: 0.4725484\ttotal: 12m 36s\tremaining: 3m 24s\n",
            "787:\tlearn: 0.4725058\ttotal: 12m 36s\tremaining: 3m 23s\n",
            "788:\tlearn: 0.4724425\ttotal: 12m 37s\tremaining: 3m 22s\n",
            "789:\tlearn: 0.4723894\ttotal: 12m 38s\tremaining: 3m 21s\n",
            "790:\tlearn: 0.4723808\ttotal: 12m 39s\tremaining: 3m 20s\n",
            "791:\tlearn: 0.4723485\ttotal: 12m 40s\tremaining: 3m 19s\n",
            "792:\tlearn: 0.4723273\ttotal: 12m 40s\tremaining: 3m 18s\n",
            "793:\tlearn: 0.4723168\ttotal: 12m 41s\tremaining: 3m 17s\n",
            "794:\tlearn: 0.4723000\ttotal: 12m 42s\tremaining: 3m 16s\n",
            "795:\tlearn: 0.4722749\ttotal: 12m 43s\tremaining: 3m 15s\n",
            "796:\tlearn: 0.4722520\ttotal: 12m 43s\tremaining: 3m 14s\n",
            "797:\tlearn: 0.4722347\ttotal: 12m 44s\tremaining: 3m 13s\n",
            "798:\tlearn: 0.4721940\ttotal: 12m 45s\tremaining: 3m 12s\n",
            "799:\tlearn: 0.4721344\ttotal: 12m 47s\tremaining: 3m 11s\n",
            "800:\tlearn: 0.4721195\ttotal: 12m 48s\tremaining: 3m 10s\n",
            "801:\tlearn: 0.4720689\ttotal: 12m 49s\tremaining: 3m 10s\n",
            "802:\tlearn: 0.4720550\ttotal: 12m 50s\tremaining: 3m 8s\n",
            "803:\tlearn: 0.4719963\ttotal: 12m 50s\tremaining: 3m 7s\n",
            "804:\tlearn: 0.4719820\ttotal: 12m 51s\tremaining: 3m 6s\n",
            "805:\tlearn: 0.4719649\ttotal: 12m 52s\tremaining: 3m 5s\n",
            "806:\tlearn: 0.4719463\ttotal: 12m 53s\tremaining: 3m 4s\n",
            "807:\tlearn: 0.4719251\ttotal: 12m 53s\tremaining: 3m 3s\n",
            "808:\tlearn: 0.4719080\ttotal: 12m 54s\tremaining: 3m 2s\n",
            "809:\tlearn: 0.4718775\ttotal: 12m 55s\tremaining: 3m 1s\n",
            "810:\tlearn: 0.4718629\ttotal: 12m 56s\tremaining: 3m\n",
            "811:\tlearn: 0.4718502\ttotal: 12m 57s\tremaining: 2m 59s\n",
            "812:\tlearn: 0.4718008\ttotal: 12m 57s\tremaining: 2m 58s\n",
            "813:\tlearn: 0.4717387\ttotal: 12m 58s\tremaining: 2m 57s\n",
            "814:\tlearn: 0.4716999\ttotal: 12m 59s\tremaining: 2m 57s\n",
            "815:\tlearn: 0.4716819\ttotal: 13m 1s\tremaining: 2m 56s\n",
            "816:\tlearn: 0.4716666\ttotal: 13m 2s\tremaining: 2m 55s\n",
            "817:\tlearn: 0.4716019\ttotal: 13m 3s\tremaining: 2m 54s\n",
            "818:\tlearn: 0.4715758\ttotal: 13m 4s\tremaining: 2m 53s\n",
            "819:\tlearn: 0.4715549\ttotal: 13m 5s\tremaining: 2m 52s\n",
            "820:\tlearn: 0.4715417\ttotal: 13m 5s\tremaining: 2m 51s\n",
            "821:\tlearn: 0.4715301\ttotal: 13m 6s\tremaining: 2m 50s\n",
            "822:\tlearn: 0.4715077\ttotal: 13m 7s\tremaining: 2m 49s\n",
            "823:\tlearn: 0.4714791\ttotal: 13m 8s\tremaining: 2m 48s\n",
            "824:\tlearn: 0.4714538\ttotal: 13m 9s\tremaining: 2m 47s\n",
            "825:\tlearn: 0.4714129\ttotal: 13m 9s\tremaining: 2m 46s\n",
            "826:\tlearn: 0.4713515\ttotal: 13m 10s\tremaining: 2m 45s\n",
            "827:\tlearn: 0.4713181\ttotal: 13m 11s\tremaining: 2m 44s\n",
            "828:\tlearn: 0.4712313\ttotal: 13m 12s\tremaining: 2m 43s\n",
            "829:\tlearn: 0.4712052\ttotal: 13m 12s\tremaining: 2m 42s\n",
            "830:\tlearn: 0.4711609\ttotal: 13m 14s\tremaining: 2m 41s\n",
            "831:\tlearn: 0.4710966\ttotal: 13m 15s\tremaining: 2m 40s\n",
            "832:\tlearn: 0.4710618\ttotal: 13m 16s\tremaining: 2m 39s\n",
            "833:\tlearn: 0.4710408\ttotal: 13m 18s\tremaining: 2m 38s\n",
            "834:\tlearn: 0.4710164\ttotal: 13m 18s\tremaining: 2m 37s\n",
            "835:\tlearn: 0.4709920\ttotal: 13m 19s\tremaining: 2m 36s\n",
            "836:\tlearn: 0.4709777\ttotal: 13m 20s\tremaining: 2m 35s\n",
            "837:\tlearn: 0.4709537\ttotal: 13m 22s\tremaining: 2m 35s\n",
            "838:\tlearn: 0.4709113\ttotal: 13m 23s\tremaining: 2m 34s\n",
            "839:\tlearn: 0.4708948\ttotal: 13m 24s\tremaining: 2m 33s\n",
            "840:\tlearn: 0.4708607\ttotal: 13m 25s\tremaining: 2m 32s\n",
            "841:\tlearn: 0.4708012\ttotal: 13m 25s\tremaining: 2m 31s\n",
            "842:\tlearn: 0.4707616\ttotal: 13m 26s\tremaining: 2m 30s\n",
            "843:\tlearn: 0.4707388\ttotal: 13m 27s\tremaining: 2m 29s\n",
            "844:\tlearn: 0.4707250\ttotal: 13m 28s\tremaining: 2m 28s\n",
            "845:\tlearn: 0.4707121\ttotal: 13m 29s\tremaining: 2m 27s\n",
            "846:\tlearn: 0.4707007\ttotal: 13m 30s\tremaining: 2m 26s\n",
            "847:\tlearn: 0.4706730\ttotal: 13m 31s\tremaining: 2m 25s\n",
            "848:\tlearn: 0.4706603\ttotal: 13m 32s\tremaining: 2m 24s\n",
            "849:\tlearn: 0.4705421\ttotal: 13m 33s\tremaining: 2m 23s\n",
            "850:\tlearn: 0.4704891\ttotal: 13m 34s\tremaining: 2m 22s\n",
            "851:\tlearn: 0.4704225\ttotal: 13m 35s\tremaining: 2m 21s\n",
            "852:\tlearn: 0.4703981\ttotal: 13m 35s\tremaining: 2m 20s\n",
            "853:\tlearn: 0.4703579\ttotal: 13m 36s\tremaining: 2m 19s\n",
            "854:\tlearn: 0.4703028\ttotal: 13m 37s\tremaining: 2m 18s\n",
            "855:\tlearn: 0.4702498\ttotal: 13m 38s\tremaining: 2m 17s\n",
            "856:\tlearn: 0.4702083\ttotal: 13m 38s\tremaining: 2m 16s\n",
            "857:\tlearn: 0.4701965\ttotal: 13m 39s\tremaining: 2m 15s\n",
            "858:\tlearn: 0.4701819\ttotal: 13m 40s\tremaining: 2m 14s\n",
            "859:\tlearn: 0.4701722\ttotal: 13m 41s\tremaining: 2m 13s\n",
            "860:\tlearn: 0.4701514\ttotal: 13m 41s\tremaining: 2m 12s\n",
            "861:\tlearn: 0.4701202\ttotal: 13m 43s\tremaining: 2m 11s\n",
            "862:\tlearn: 0.4700588\ttotal: 13m 44s\tremaining: 2m 10s\n",
            "863:\tlearn: 0.4700349\ttotal: 13m 46s\tremaining: 2m 10s\n",
            "864:\tlearn: 0.4700022\ttotal: 13m 47s\tremaining: 2m 9s\n",
            "865:\tlearn: 0.4699937\ttotal: 13m 47s\tremaining: 2m 8s\n",
            "866:\tlearn: 0.4699576\ttotal: 13m 48s\tremaining: 2m 7s\n",
            "867:\tlearn: 0.4698924\ttotal: 13m 49s\tremaining: 2m 6s\n",
            "868:\tlearn: 0.4698731\ttotal: 13m 50s\tremaining: 2m 5s\n",
            "869:\tlearn: 0.4698545\ttotal: 13m 50s\tremaining: 2m 4s\n",
            "870:\tlearn: 0.4698100\ttotal: 13m 51s\tremaining: 2m 3s\n",
            "871:\tlearn: 0.4697670\ttotal: 13m 52s\tremaining: 2m 2s\n",
            "872:\tlearn: 0.4697340\ttotal: 13m 53s\tremaining: 2m 1s\n",
            "873:\tlearn: 0.4697092\ttotal: 13m 53s\tremaining: 2m\n",
            "874:\tlearn: 0.4696461\ttotal: 13m 55s\tremaining: 1m 59s\n",
            "875:\tlearn: 0.4696320\ttotal: 13m 55s\tremaining: 1m 58s\n",
            "876:\tlearn: 0.4696165\ttotal: 13m 56s\tremaining: 1m 57s\n",
            "877:\tlearn: 0.4695959\ttotal: 13m 56s\tremaining: 1m 56s\n",
            "878:\tlearn: 0.4695873\ttotal: 13m 58s\tremaining: 1m 55s\n",
            "879:\tlearn: 0.4695590\ttotal: 13m 59s\tremaining: 1m 54s\n",
            "880:\tlearn: 0.4695044\ttotal: 14m 1s\tremaining: 1m 53s\n",
            "881:\tlearn: 0.4694662\ttotal: 14m 2s\tremaining: 1m 52s\n",
            "882:\tlearn: 0.4694617\ttotal: 14m 2s\tremaining: 1m 51s\n",
            "883:\tlearn: 0.4694406\ttotal: 14m 3s\tremaining: 1m 50s\n",
            "884:\tlearn: 0.4694347\ttotal: 14m 4s\tremaining: 1m 49s\n",
            "885:\tlearn: 0.4694022\ttotal: 14m 4s\tremaining: 1m 48s\n",
            "886:\tlearn: 0.4693939\ttotal: 14m 5s\tremaining: 1m 47s\n",
            "887:\tlearn: 0.4693773\ttotal: 14m 6s\tremaining: 1m 46s\n",
            "888:\tlearn: 0.4693579\ttotal: 14m 7s\tremaining: 1m 45s\n",
            "889:\tlearn: 0.4693468\ttotal: 14m 7s\tremaining: 1m 44s\n",
            "890:\tlearn: 0.4693220\ttotal: 14m 8s\tremaining: 1m 43s\n",
            "891:\tlearn: 0.4692763\ttotal: 14m 9s\tremaining: 1m 42s\n",
            "892:\tlearn: 0.4692574\ttotal: 14m 10s\tremaining: 1m 41s\n",
            "893:\tlearn: 0.4692435\ttotal: 14m 10s\tremaining: 1m 40s\n",
            "894:\tlearn: 0.4692239\ttotal: 14m 11s\tremaining: 1m 39s\n",
            "895:\tlearn: 0.4692072\ttotal: 14m 12s\tremaining: 1m 38s\n",
            "896:\tlearn: 0.4691930\ttotal: 14m 14s\tremaining: 1m 38s\n",
            "897:\tlearn: 0.4691852\ttotal: 14m 15s\tremaining: 1m 37s\n",
            "898:\tlearn: 0.4691372\ttotal: 14m 16s\tremaining: 1m 36s\n",
            "899:\tlearn: 0.4691201\ttotal: 14m 17s\tremaining: 1m 35s\n",
            "900:\tlearn: 0.4690437\ttotal: 14m 18s\tremaining: 1m 34s\n",
            "901:\tlearn: 0.4690185\ttotal: 14m 18s\tremaining: 1m 33s\n",
            "902:\tlearn: 0.4690000\ttotal: 14m 19s\tremaining: 1m 32s\n",
            "903:\tlearn: 0.4689816\ttotal: 14m 20s\tremaining: 1m 31s\n",
            "904:\tlearn: 0.4689709\ttotal: 14m 21s\tremaining: 1m 30s\n",
            "905:\tlearn: 0.4689489\ttotal: 14m 21s\tremaining: 1m 29s\n",
            "906:\tlearn: 0.4689118\ttotal: 14m 22s\tremaining: 1m 28s\n",
            "907:\tlearn: 0.4688910\ttotal: 14m 23s\tremaining: 1m 27s\n",
            "908:\tlearn: 0.4688831\ttotal: 14m 24s\tremaining: 1m 26s\n",
            "909:\tlearn: 0.4688727\ttotal: 14m 24s\tremaining: 1m 25s\n",
            "910:\tlearn: 0.4688486\ttotal: 14m 25s\tremaining: 1m 24s\n",
            "911:\tlearn: 0.4688174\ttotal: 14m 26s\tremaining: 1m 23s\n",
            "912:\tlearn: 0.4687979\ttotal: 14m 27s\tremaining: 1m 22s\n",
            "913:\tlearn: 0.4687903\ttotal: 14m 28s\tremaining: 1m 21s\n",
            "914:\tlearn: 0.4687624\ttotal: 14m 30s\tremaining: 1m 20s\n",
            "915:\tlearn: 0.4687479\ttotal: 14m 31s\tremaining: 1m 19s\n",
            "916:\tlearn: 0.4687239\ttotal: 14m 31s\tremaining: 1m 18s\n",
            "917:\tlearn: 0.4687071\ttotal: 14m 32s\tremaining: 1m 17s\n",
            "918:\tlearn: 0.4686881\ttotal: 14m 33s\tremaining: 1m 16s\n",
            "919:\tlearn: 0.4686084\ttotal: 14m 34s\tremaining: 1m 16s\n",
            "920:\tlearn: 0.4685828\ttotal: 14m 34s\tremaining: 1m 15s\n",
            "921:\tlearn: 0.4685636\ttotal: 14m 35s\tremaining: 1m 14s\n",
            "922:\tlearn: 0.4685468\ttotal: 14m 36s\tremaining: 1m 13s\n",
            "923:\tlearn: 0.4685316\ttotal: 14m 37s\tremaining: 1m 12s\n",
            "924:\tlearn: 0.4685133\ttotal: 14m 37s\tremaining: 1m 11s\n",
            "925:\tlearn: 0.4684843\ttotal: 14m 38s\tremaining: 1m 10s\n",
            "926:\tlearn: 0.4684574\ttotal: 14m 39s\tremaining: 1m 9s\n",
            "927:\tlearn: 0.4684471\ttotal: 14m 40s\tremaining: 1m 8s\n",
            "928:\tlearn: 0.4684243\ttotal: 14m 41s\tremaining: 1m 7s\n",
            "929:\tlearn: 0.4683996\ttotal: 14m 42s\tremaining: 1m 6s\n",
            "930:\tlearn: 0.4683727\ttotal: 14m 44s\tremaining: 1m 5s\n",
            "931:\tlearn: 0.4683523\ttotal: 14m 45s\tremaining: 1m 4s\n",
            "932:\tlearn: 0.4683368\ttotal: 14m 46s\tremaining: 1m 3s\n",
            "933:\tlearn: 0.4682563\ttotal: 14m 47s\tremaining: 1m 2s\n",
            "934:\tlearn: 0.4682472\ttotal: 14m 47s\tremaining: 1m 1s\n",
            "935:\tlearn: 0.4681979\ttotal: 14m 48s\tremaining: 1m\n",
            "936:\tlearn: 0.4681661\ttotal: 14m 49s\tremaining: 59.8s\n",
            "937:\tlearn: 0.4681214\ttotal: 14m 50s\tremaining: 58.8s\n",
            "938:\tlearn: 0.4681150\ttotal: 14m 50s\tremaining: 57.9s\n",
            "939:\tlearn: 0.4681017\ttotal: 14m 51s\tremaining: 56.9s\n",
            "940:\tlearn: 0.4680876\ttotal: 14m 52s\tremaining: 56s\n",
            "941:\tlearn: 0.4680466\ttotal: 14m 53s\tremaining: 55s\n",
            "942:\tlearn: 0.4680200\ttotal: 14m 53s\tremaining: 54s\n",
            "943:\tlearn: 0.4680012\ttotal: 14m 54s\tremaining: 53.1s\n",
            "944:\tlearn: 0.4679884\ttotal: 14m 55s\tremaining: 52.1s\n",
            "945:\tlearn: 0.4679762\ttotal: 14m 56s\tremaining: 51.2s\n",
            "946:\tlearn: 0.4679579\ttotal: 14m 57s\tremaining: 50.2s\n",
            "947:\tlearn: 0.4679401\ttotal: 14m 59s\tremaining: 49.3s\n",
            "948:\tlearn: 0.4678880\ttotal: 15m\tremaining: 48.4s\n",
            "949:\tlearn: 0.4678746\ttotal: 15m\tremaining: 47.4s\n",
            "950:\tlearn: 0.4678689\ttotal: 15m 1s\tremaining: 46.4s\n",
            "951:\tlearn: 0.4678188\ttotal: 15m 2s\tremaining: 45.5s\n",
            "952:\tlearn: 0.4678019\ttotal: 15m 3s\tremaining: 44.5s\n",
            "953:\tlearn: 0.4677673\ttotal: 15m 3s\tremaining: 43.6s\n",
            "954:\tlearn: 0.4677487\ttotal: 15m 4s\tremaining: 42.6s\n",
            "955:\tlearn: 0.4677394\ttotal: 15m 5s\tremaining: 41.7s\n",
            "956:\tlearn: 0.4677257\ttotal: 15m 5s\tremaining: 40.7s\n",
            "957:\tlearn: 0.4677037\ttotal: 15m 6s\tremaining: 39.7s\n",
            "958:\tlearn: 0.4676957\ttotal: 15m 7s\tremaining: 38.8s\n",
            "959:\tlearn: 0.4676663\ttotal: 15m 7s\tremaining: 37.8s\n",
            "960:\tlearn: 0.4676403\ttotal: 15m 8s\tremaining: 36.9s\n",
            "961:\tlearn: 0.4676176\ttotal: 15m 9s\tremaining: 35.9s\n",
            "962:\tlearn: 0.4675831\ttotal: 15m 10s\tremaining: 35s\n",
            "963:\tlearn: 0.4675646\ttotal: 15m 12s\tremaining: 34.1s\n",
            "964:\tlearn: 0.4675463\ttotal: 15m 13s\tremaining: 33.1s\n",
            "965:\tlearn: 0.4675295\ttotal: 15m 14s\tremaining: 32.2s\n",
            "966:\tlearn: 0.4674924\ttotal: 15m 15s\tremaining: 31.2s\n",
            "967:\tlearn: 0.4674778\ttotal: 15m 16s\tremaining: 30.3s\n",
            "968:\tlearn: 0.4674521\ttotal: 15m 16s\tremaining: 29.3s\n",
            "969:\tlearn: 0.4674377\ttotal: 15m 17s\tremaining: 28.4s\n",
            "970:\tlearn: 0.4674158\ttotal: 15m 18s\tremaining: 27.4s\n",
            "971:\tlearn: 0.4673975\ttotal: 15m 19s\tremaining: 26.5s\n",
            "972:\tlearn: 0.4673898\ttotal: 15m 19s\tremaining: 25.5s\n",
            "973:\tlearn: 0.4673370\ttotal: 15m 20s\tremaining: 24.6s\n",
            "974:\tlearn: 0.4673203\ttotal: 15m 21s\tremaining: 23.6s\n",
            "975:\tlearn: 0.4672933\ttotal: 15m 22s\tremaining: 22.7s\n",
            "976:\tlearn: 0.4672579\ttotal: 15m 23s\tremaining: 21.7s\n",
            "977:\tlearn: 0.4672075\ttotal: 15m 24s\tremaining: 20.8s\n",
            "978:\tlearn: 0.4671830\ttotal: 15m 25s\tremaining: 19.8s\n",
            "979:\tlearn: 0.4671433\ttotal: 15m 26s\tremaining: 18.9s\n",
            "980:\tlearn: 0.4671194\ttotal: 15m 27s\tremaining: 18s\n",
            "981:\tlearn: 0.4670841\ttotal: 15m 28s\tremaining: 17s\n",
            "982:\tlearn: 0.4670613\ttotal: 15m 29s\tremaining: 16.1s\n",
            "983:\tlearn: 0.4670364\ttotal: 15m 30s\tremaining: 15.1s\n",
            "984:\tlearn: 0.4670218\ttotal: 15m 30s\tremaining: 14.2s\n",
            "985:\tlearn: 0.4669622\ttotal: 15m 31s\tremaining: 13.2s\n",
            "986:\tlearn: 0.4669550\ttotal: 15m 32s\tremaining: 12.3s\n",
            "987:\tlearn: 0.4668940\ttotal: 15m 33s\tremaining: 11.3s\n",
            "988:\tlearn: 0.4668561\ttotal: 15m 33s\tremaining: 10.4s\n",
            "989:\tlearn: 0.4668364\ttotal: 15m 34s\tremaining: 9.44s\n",
            "990:\tlearn: 0.4668268\ttotal: 15m 35s\tremaining: 8.49s\n",
            "991:\tlearn: 0.4668097\ttotal: 15m 36s\tremaining: 7.55s\n",
            "992:\tlearn: 0.4667949\ttotal: 15m 36s\tremaining: 6.6s\n",
            "993:\tlearn: 0.4667873\ttotal: 15m 37s\tremaining: 5.66s\n",
            "994:\tlearn: 0.4667507\ttotal: 15m 38s\tremaining: 4.71s\n",
            "995:\tlearn: 0.4667273\ttotal: 15m 39s\tremaining: 3.77s\n",
            "996:\tlearn: 0.4667033\ttotal: 15m 41s\tremaining: 2.83s\n",
            "997:\tlearn: 0.4666784\ttotal: 15m 42s\tremaining: 1.89s\n",
            "998:\tlearn: 0.4665989\ttotal: 15m 43s\tremaining: 945ms\n",
            "999:\tlearn: 0.4665830\ttotal: 15m 45s\tremaining: 0us\n"
          ]
        },
        {
          "output_type": "execute_result",
          "data": {
            "text/plain": [
              "<catboost.core.CatBoostClassifier at 0x786b20419a80>"
            ]
          },
          "metadata": {},
          "execution_count": 17
        }
      ]
    },
    {
      "cell_type": "code",
      "source": [
        "y_pred_HGB = HGB_clf.predict(x_test)\n",
        "\n",
        "# Calculate precision and recall\n",
        "precision_HGB = precision_score(y_test, y_pred_HGB)\n",
        "recall_HGB = recall_score(y_test, y_pred_HGB)\n",
        "\n",
        "print(precision_HGB)\n",
        "print(recall_HGB)"
      ],
      "metadata": {
        "colab": {
          "base_uri": "https://localhost:8080/"
        },
        "outputId": "e30af0ea-211e-43e1-fd6c-7ebd75c87bd8",
        "id": "j2g4dvsPDHuJ"
      },
      "execution_count": null,
      "outputs": [
        {
          "output_type": "stream",
          "name": "stdout",
          "text": [
            "0.7983233900516028\n",
            "0.7836955293585929\n"
          ]
        }
      ]
    },
    {
      "cell_type": "code",
      "source": [
        "HGB_clf.score(x_test, y_test )"
      ],
      "metadata": {
        "colab": {
          "base_uri": "https://localhost:8080/"
        },
        "outputId": "adabf454-9750-44b1-ab5a-8d4c510c235a",
        "id": "k4bZEEK6DHuJ"
      },
      "execution_count": null,
      "outputs": [
        {
          "output_type": "execute_result",
          "data": {
            "text/plain": [
              "0.792466322025584"
            ]
          },
          "metadata": {},
          "execution_count": 19
        }
      ]
    },
    {
      "cell_type": "markdown",
      "source": [
        "# Ada Boost Classifier"
      ],
      "metadata": {
        "id": "IBnQBhWiEyq6"
      }
    },
    {
      "cell_type": "code",
      "source": [
        "HGB_clf = AdaBoostClassifier()\n",
        "HGB_clf.fit(x_train, y_train)"
      ],
      "metadata": {
        "colab": {
          "base_uri": "https://localhost:8080/",
          "height": 74
        },
        "outputId": "9a60b924-1f34-4123-fa24-d6731176dd33",
        "id": "AONH_4BaLrjB"
      },
      "execution_count": null,
      "outputs": [
        {
          "output_type": "execute_result",
          "data": {
            "text/plain": [
              "AdaBoostClassifier()"
            ],
            "text/html": [
              "<style>#sk-container-id-3 {color: black;background-color: white;}#sk-container-id-3 pre{padding: 0;}#sk-container-id-3 div.sk-toggleable {background-color: white;}#sk-container-id-3 label.sk-toggleable__label {cursor: pointer;display: block;width: 100%;margin-bottom: 0;padding: 0.3em;box-sizing: border-box;text-align: center;}#sk-container-id-3 label.sk-toggleable__label-arrow:before {content: \"▸\";float: left;margin-right: 0.25em;color: #696969;}#sk-container-id-3 label.sk-toggleable__label-arrow:hover:before {color: black;}#sk-container-id-3 div.sk-estimator:hover label.sk-toggleable__label-arrow:before {color: black;}#sk-container-id-3 div.sk-toggleable__content {max-height: 0;max-width: 0;overflow: hidden;text-align: left;background-color: #f0f8ff;}#sk-container-id-3 div.sk-toggleable__content pre {margin: 0.2em;color: black;border-radius: 0.25em;background-color: #f0f8ff;}#sk-container-id-3 input.sk-toggleable__control:checked~div.sk-toggleable__content {max-height: 200px;max-width: 100%;overflow: auto;}#sk-container-id-3 input.sk-toggleable__control:checked~label.sk-toggleable__label-arrow:before {content: \"▾\";}#sk-container-id-3 div.sk-estimator input.sk-toggleable__control:checked~label.sk-toggleable__label {background-color: #d4ebff;}#sk-container-id-3 div.sk-label input.sk-toggleable__control:checked~label.sk-toggleable__label {background-color: #d4ebff;}#sk-container-id-3 input.sk-hidden--visually {border: 0;clip: rect(1px 1px 1px 1px);clip: rect(1px, 1px, 1px, 1px);height: 1px;margin: -1px;overflow: hidden;padding: 0;position: absolute;width: 1px;}#sk-container-id-3 div.sk-estimator {font-family: monospace;background-color: #f0f8ff;border: 1px dotted black;border-radius: 0.25em;box-sizing: border-box;margin-bottom: 0.5em;}#sk-container-id-3 div.sk-estimator:hover {background-color: #d4ebff;}#sk-container-id-3 div.sk-parallel-item::after {content: \"\";width: 100%;border-bottom: 1px solid gray;flex-grow: 1;}#sk-container-id-3 div.sk-label:hover label.sk-toggleable__label {background-color: #d4ebff;}#sk-container-id-3 div.sk-serial::before {content: \"\";position: absolute;border-left: 1px solid gray;box-sizing: border-box;top: 0;bottom: 0;left: 50%;z-index: 0;}#sk-container-id-3 div.sk-serial {display: flex;flex-direction: column;align-items: center;background-color: white;padding-right: 0.2em;padding-left: 0.2em;position: relative;}#sk-container-id-3 div.sk-item {position: relative;z-index: 1;}#sk-container-id-3 div.sk-parallel {display: flex;align-items: stretch;justify-content: center;background-color: white;position: relative;}#sk-container-id-3 div.sk-item::before, #sk-container-id-3 div.sk-parallel-item::before {content: \"\";position: absolute;border-left: 1px solid gray;box-sizing: border-box;top: 0;bottom: 0;left: 50%;z-index: -1;}#sk-container-id-3 div.sk-parallel-item {display: flex;flex-direction: column;z-index: 1;position: relative;background-color: white;}#sk-container-id-3 div.sk-parallel-item:first-child::after {align-self: flex-end;width: 50%;}#sk-container-id-3 div.sk-parallel-item:last-child::after {align-self: flex-start;width: 50%;}#sk-container-id-3 div.sk-parallel-item:only-child::after {width: 0;}#sk-container-id-3 div.sk-dashed-wrapped {border: 1px dashed gray;margin: 0 0.4em 0.5em 0.4em;box-sizing: border-box;padding-bottom: 0.4em;background-color: white;}#sk-container-id-3 div.sk-label label {font-family: monospace;font-weight: bold;display: inline-block;line-height: 1.2em;}#sk-container-id-3 div.sk-label-container {text-align: center;}#sk-container-id-3 div.sk-container {/* jupyter's `normalize.less` sets `[hidden] { display: none; }` but bootstrap.min.css set `[hidden] { display: none !important; }` so we also need the `!important` here to be able to override the default hidden behavior on the sphinx rendered scikit-learn.org. See: https://github.com/scikit-learn/scikit-learn/issues/21755 */display: inline-block !important;position: relative;}#sk-container-id-3 div.sk-text-repr-fallback {display: none;}</style><div id=\"sk-container-id-3\" class=\"sk-top-container\"><div class=\"sk-text-repr-fallback\"><pre>AdaBoostClassifier()</pre><b>In a Jupyter environment, please rerun this cell to show the HTML representation or trust the notebook. <br />On GitHub, the HTML representation is unable to render, please try loading this page with nbviewer.org.</b></div><div class=\"sk-container\" hidden><div class=\"sk-item\"><div class=\"sk-estimator sk-toggleable\"><input class=\"sk-toggleable__control sk-hidden--visually\" id=\"sk-estimator-id-3\" type=\"checkbox\" checked><label for=\"sk-estimator-id-3\" class=\"sk-toggleable__label sk-toggleable__label-arrow\">AdaBoostClassifier</label><div class=\"sk-toggleable__content\"><pre>AdaBoostClassifier()</pre></div></div></div></div></div>"
            ]
          },
          "metadata": {},
          "execution_count": 21
        }
      ]
    },
    {
      "cell_type": "code",
      "source": [
        "y_pred_HGB = HGB_clf.predict(x_test)\n",
        "\n",
        "# Calculate precision and recall\n",
        "precision_HGB = precision_score(y_test, y_pred_HGB)\n",
        "recall_HGB = recall_score(y_test, y_pred_HGB)\n",
        "\n",
        "print(precision_HGB)\n",
        "print(recall_HGB)"
      ],
      "metadata": {
        "colab": {
          "base_uri": "https://localhost:8080/"
        },
        "outputId": "3d79c51d-b92b-42f7-fc8c-c5f45a3f0f03",
        "id": "CSWXQ99mLrjI"
      },
      "execution_count": null,
      "outputs": [
        {
          "output_type": "stream",
          "name": "stdout",
          "text": [
            "0.7920454453629407\n",
            "0.7383375390757411\n"
          ]
        }
      ]
    },
    {
      "cell_type": "code",
      "source": [
        "HGB_clf.score(x_test, y_test )"
      ],
      "metadata": {
        "colab": {
          "base_uri": "https://localhost:8080/"
        },
        "outputId": "f79abb86-702c-4b21-81b8-049c4408a8eb",
        "id": "0RadKWvbLrjI"
      },
      "execution_count": null,
      "outputs": [
        {
          "output_type": "execute_result",
          "data": {
            "text/plain": [
              "0.7718123844383231"
            ]
          },
          "metadata": {},
          "execution_count": 23
        }
      ]
    },
    {
      "cell_type": "code",
      "source": [],
      "metadata": {
        "id": "TZ2MkK_8DOj9"
      },
      "execution_count": null,
      "outputs": []
    }
  ]
}